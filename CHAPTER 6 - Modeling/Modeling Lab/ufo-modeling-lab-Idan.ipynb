{
 "cells": [
  {
   "cell_type": "markdown",
   "metadata": {},
   "source": [
    "# UFO Modeling Lab\n",
    "\n",
    "<u>Use Case</u>\n",
    "<p>Mr. K wants to deploy a network of 10 sensors across the globe. He would like to locate these sensors in the center of the most likely locations for UFO sighting.</p>\n",
    "\n",
    "<u>Goal</u>\n",
    "<p>build a model that will output 10 points (point = pair of {long,lat}) to place the sensors</p> \n",
    "\n",
    "<u>Table Of Contents</u>\n",
    "1. [Data Collection](#DC)\n",
    "1. [Assumptions](#assumptions)\n",
    "1. [Model Selection](#MS)\n",
    "1. [Feature Selection](#FS)\n",
    "1. [Handling Missing Values](#HMV)\n",
    "1. [EDA](#eda)\n",
    "1. [Data Preparation](#dp)\n",
    "1. [Modeling](#model)\n",
    "1. [Results](#results)\n",
    "1. [Summary](#summary)\n",
    "\n",
    "<u>Note</u>\n",
    "<p>in every code cell that I'm using external libraries I'm importing it every time, although I can import all of them once on the start of the notebook, I wanted to show what libraries I'm using on every step</p>"
   ]
  },
  {
   "cell_type": "markdown",
   "metadata": {},
   "source": [
    "## Data Collection<a id='DC'></a>\n",
    "### Downloading a File from an S3 Bucket to Notebook instance<a id='S3To'></a>"
   ]
  },
  {
   "cell_type": "code",
   "execution_count": 1,
   "metadata": {},
   "outputs": [
    {
     "data": {
      "text/plain": [
       "'\\nimport boto3\\nimport botocore\\n\\nBUCKET_NAME = \\'allcloud-idan-aws-certified-ml-2019\\'\\nKEY = \\'ModelingLab - 2019/ufo_fullset.csv\\'\\n\\ns3 = boto3.resource(\\'s3\\')\\n\\ntry:\\n    s3.Bucket(BUCKET_NAME).download_file(KEY, \\'ufo_fullset.csv\\')\\nexcept botocore.exceptions.ClientError as e:\\n    if e.response[\\'Error\\'][\\'Code\\'] == \"404\":\\n        print(\"The object does not exist.\")\\n    else:\\n        raise\\n'"
      ]
     },
     "execution_count": 1,
     "metadata": {},
     "output_type": "execute_result"
    }
   ],
   "source": [
    "import boto3\n",
    "import botocore\n",
    "\n",
    "BUCKET_NAME = '<PUT_HERE_THE_BUCKET_NAME>'\n",
    "KEY = 'ModelingLab - 2019/ufo_fullset.csv'\n",
    "\n",
    "s3 = boto3.resource('s3')\n",
    "\n",
    "try:\n",
    "    s3.Bucket(BUCKET_NAME).download_file(KEY, 'ufo_fullset.csv')\n",
    "except botocore.exceptions.ClientError as e:\n",
    "    if e.response['Error']['Code'] == \"404\":\n",
    "        print(\"The object does not exist.\")\n",
    "    else:\n",
    "        raise"
   ]
  },
  {
   "cell_type": "markdown",
   "metadata": {},
   "source": [
    "### Load Data from CSV File to DataFrame using Pandas<a id='LoadData'></a>"
   ]
  },
  {
   "cell_type": "code",
   "execution_count": 2,
   "metadata": {},
   "outputs": [
    {
     "data": {
      "text/html": [
       "<div>\n",
       "<style scoped>\n",
       "    .dataframe tbody tr th:only-of-type {\n",
       "        vertical-align: middle;\n",
       "    }\n",
       "\n",
       "    .dataframe tbody tr th {\n",
       "        vertical-align: top;\n",
       "    }\n",
       "\n",
       "    .dataframe thead th {\n",
       "        text-align: right;\n",
       "    }\n",
       "</style>\n",
       "<table border=\"1\" class=\"dataframe\">\n",
       "  <thead>\n",
       "    <tr style=\"text-align: right;\">\n",
       "      <th></th>\n",
       "      <th>reportedTimestamp</th>\n",
       "      <th>eventDate</th>\n",
       "      <th>eventTime</th>\n",
       "      <th>shape</th>\n",
       "      <th>duration</th>\n",
       "      <th>witnesses</th>\n",
       "      <th>weather</th>\n",
       "      <th>firstName</th>\n",
       "      <th>lastName</th>\n",
       "      <th>latitude</th>\n",
       "      <th>longitude</th>\n",
       "      <th>sighting</th>\n",
       "      <th>physicalEvidence</th>\n",
       "      <th>contact</th>\n",
       "      <th>researchOutcome</th>\n",
       "    </tr>\n",
       "  </thead>\n",
       "  <tbody>\n",
       "    <tr>\n",
       "      <th>0</th>\n",
       "      <td>1977-04-04T04:02:23.340Z</td>\n",
       "      <td>1977-03-31</td>\n",
       "      <td>23:46</td>\n",
       "      <td>circle</td>\n",
       "      <td>4</td>\n",
       "      <td>1</td>\n",
       "      <td>rain</td>\n",
       "      <td>Ila</td>\n",
       "      <td>Bashirian</td>\n",
       "      <td>47.329444</td>\n",
       "      <td>-122.578889</td>\n",
       "      <td>Y</td>\n",
       "      <td>N</td>\n",
       "      <td>N</td>\n",
       "      <td>explained</td>\n",
       "    </tr>\n",
       "    <tr>\n",
       "      <th>1</th>\n",
       "      <td>1982-11-22T02:06:32.019Z</td>\n",
       "      <td>1982-11-15</td>\n",
       "      <td>22:04</td>\n",
       "      <td>disk</td>\n",
       "      <td>4</td>\n",
       "      <td>1</td>\n",
       "      <td>partly cloudy</td>\n",
       "      <td>Eriberto</td>\n",
       "      <td>Runolfsson</td>\n",
       "      <td>52.664913</td>\n",
       "      <td>-1.034894</td>\n",
       "      <td>Y</td>\n",
       "      <td>Y</td>\n",
       "      <td>N</td>\n",
       "      <td>explained</td>\n",
       "    </tr>\n",
       "    <tr>\n",
       "      <th>2</th>\n",
       "      <td>1992-12-07T19:06:52.482Z</td>\n",
       "      <td>1992-12-07</td>\n",
       "      <td>19:01</td>\n",
       "      <td>circle</td>\n",
       "      <td>49</td>\n",
       "      <td>1</td>\n",
       "      <td>clear</td>\n",
       "      <td>Miller</td>\n",
       "      <td>Watsica</td>\n",
       "      <td>38.951667</td>\n",
       "      <td>-92.333889</td>\n",
       "      <td>Y</td>\n",
       "      <td>N</td>\n",
       "      <td>N</td>\n",
       "      <td>explained</td>\n",
       "    </tr>\n",
       "    <tr>\n",
       "      <th>3</th>\n",
       "      <td>2011-02-24T21:06:34.898Z</td>\n",
       "      <td>2011-02-21</td>\n",
       "      <td>20:56</td>\n",
       "      <td>disk</td>\n",
       "      <td>13</td>\n",
       "      <td>1</td>\n",
       "      <td>partly cloudy</td>\n",
       "      <td>Clifton</td>\n",
       "      <td>Bechtelar</td>\n",
       "      <td>41.496944</td>\n",
       "      <td>-71.367778</td>\n",
       "      <td>Y</td>\n",
       "      <td>N</td>\n",
       "      <td>N</td>\n",
       "      <td>explained</td>\n",
       "    </tr>\n",
       "    <tr>\n",
       "      <th>4</th>\n",
       "      <td>1991-03-09T16:18:45.501Z</td>\n",
       "      <td>1991-03-09</td>\n",
       "      <td>11:42</td>\n",
       "      <td>circle</td>\n",
       "      <td>17</td>\n",
       "      <td>1</td>\n",
       "      <td>mostly cloudy</td>\n",
       "      <td>Jayda</td>\n",
       "      <td>Ebert</td>\n",
       "      <td>47.606389</td>\n",
       "      <td>-122.330833</td>\n",
       "      <td>Y</td>\n",
       "      <td>N</td>\n",
       "      <td>N</td>\n",
       "      <td>explained</td>\n",
       "    </tr>\n",
       "  </tbody>\n",
       "</table>\n",
       "</div>"
      ],
      "text/plain": [
       "          reportedTimestamp   eventDate eventTime   shape  duration  \\\n",
       "0  1977-04-04T04:02:23.340Z  1977-03-31     23:46  circle         4   \n",
       "1  1982-11-22T02:06:32.019Z  1982-11-15     22:04    disk         4   \n",
       "2  1992-12-07T19:06:52.482Z  1992-12-07     19:01  circle        49   \n",
       "3  2011-02-24T21:06:34.898Z  2011-02-21     20:56    disk        13   \n",
       "4  1991-03-09T16:18:45.501Z  1991-03-09     11:42  circle        17   \n",
       "\n",
       "   witnesses        weather firstName    lastName   latitude   longitude  \\\n",
       "0          1           rain       Ila   Bashirian  47.329444 -122.578889   \n",
       "1          1  partly cloudy  Eriberto  Runolfsson  52.664913   -1.034894   \n",
       "2          1          clear    Miller     Watsica  38.951667  -92.333889   \n",
       "3          1  partly cloudy   Clifton   Bechtelar  41.496944  -71.367778   \n",
       "4          1  mostly cloudy     Jayda       Ebert  47.606389 -122.330833   \n",
       "\n",
       "  sighting physicalEvidence contact researchOutcome  \n",
       "0        Y                N       N       explained  \n",
       "1        Y                Y       N       explained  \n",
       "2        Y                N       N       explained  \n",
       "3        Y                N       N       explained  \n",
       "4        Y                N       N       explained  "
      ]
     },
     "execution_count": 2,
     "metadata": {},
     "output_type": "execute_result"
    }
   ],
   "source": [
    "import pandas as pd \n",
    "\n",
    "data = pd.read_csv(\"ufo_fullset.csv\")\n",
    "data.head()"
   ]
  },
  {
   "cell_type": "markdown",
   "metadata": {},
   "source": [
    "<u>Feature Explanation</u>\n",
    "<ul>\n",
    "    <li>reportedTimestamp: The date when the UFO sighting was reported</li>\n",
    "    <li>eventDate: The date when the UFO sighting happened</li>\n",
    "    <li>eventTime: The time when the UFO sighting happened (24 hour format)</li>\n",
    "    <li>latitude: The location where the UFO sighting happened</li>\n",
    "    <li>longitude: The location where the UFO sighting happened</li>\n",
    "    <li>shape: The shape of the UFO</li>\n",
    "    <li>duration: How many seconds the sighting happened</li>\n",
    "    <li>witnesses: The amount of witnesses that saw the UFO</li>\n",
    "    <li>weather: The weather when the sighting happened</li>\n",
    "    <li>firstName: The first name of the person who saw a UFO</li>\n",
    "    <li>lastName: The last name of the person who saw a UFO</li>\n",
    "    <li>sighting: If a UFO was sighted (is always Y = Yes)</li>\n",
    "    <li>physicalEvidence: Whether there was physical evidence left by UFO (Y = Yes, N = No)</li>\n",
    "    <li>contact: Whether there was contact by UFO beings (Y = Yes, N = No)</li>\n",
    "    <li>researchOutcome: Whether the experts had an explanation for sighting</li>\n",
    "    <ul>\n",
    "        <li>explained: There was some explanation to the sighting</li>\n",
    "        <li>unexplained: There was no explanation to the sighting</li>\n",
    "        <li>probable: There is enough evidence that the sighting were from extraterrestrials \n",
    "    </ul>\n",
    "</ul>"
   ]
  },
  {
   "cell_type": "markdown",
   "metadata": {},
   "source": [
    "## Assumptions<a id='assumptions'></a>\n",
    "<ul>\n",
    "    <li>it's an unsupervised clustering problem (discrete) - we will need to find 10 clusters without a given target data.</li>"
   ]
  },
  {
   "cell_type": "markdown",
   "metadata": {},
   "source": [
    "## Model Selection<a id='MS'></a>\n",
    "<p>before run to do EDA, data cleansing/analyzing/preparing adventure I decided to select the model first and then I will know what data to use and how to prepare it.</p>\n",
    "<p>we need a model to cluster each data point (latitude,longitude) to one of ten clusters, and return a center point for each of the cluster, these points will be our answer.</p>\n",
    "<p>in clustering problems there are two approaches: Hierarchical clustering and Non-Hierarchical Clustering. we are in Non-Hierarchical Clustering, there are a lot of algorithms, and I decided to use K-Means, K-Medians, and K-Medoids that looks to me the best fit for our use case.</p>\n",
    "<p>these algorethims aim to groups similar objects together (meaning, group data points in a way that minimize the distance between them and the group centroid).\n",
    "    K-Means calculating the <b>mean</b> for each cluster to determine its centroid, while K-Medians calculating the <b>median</b> for each cluster to determine its centroid, and K-Medoids chooses <b>one data point</b> form each cluster as the centroid.\n",
    "</p>\n",
    "\n",
    "### Notice:\n",
    "<p>\n",
    "<a href=\"https://docs.aws.amazon.com/sagemaker/latest/dg/algos.html\">Amazon SageMaker Built-in Algorithms</a> doesn't include K-Medians nor K-Medoids, so I will only use K-Means in this notebook.\n",
    "</p>"
   ]
  },
  {
   "cell_type": "markdown",
   "metadata": {},
   "source": [
    "## Handling Missing Values<a id='HMV'></a>"
   ]
  },
  {
   "cell_type": "code",
   "execution_count": 3,
   "metadata": {},
   "outputs": [
    {
     "data": {
      "text/plain": [
       "reportedTimestamp    0\n",
       "eventDate            0\n",
       "eventTime            0\n",
       "shape                2\n",
       "duration             0\n",
       "witnesses            0\n",
       "weather              0\n",
       "firstName            0\n",
       "lastName             0\n",
       "latitude             0\n",
       "longitude            0\n",
       "sighting             0\n",
       "physicalEvidence     0\n",
       "contact              0\n",
       "researchOutcome      0\n",
       "dtype: int64"
      ]
     },
     "execution_count": 3,
     "metadata": {},
     "output_type": "execute_result"
    }
   ],
   "source": [
    "data.isnull().sum()"
   ]
  },
  {
   "cell_type": "markdown",
   "metadata": {},
   "source": [
    "here are only 2 rows with missing data out of 18,000 records (around 0.01% of the data), dropping these rows will not cause any change in our final model."
   ]
  },
  {
   "cell_type": "code",
   "execution_count": 4,
   "metadata": {},
   "outputs": [
    {
     "data": {
      "text/plain": [
       "False"
      ]
     },
     "execution_count": 4,
     "metadata": {},
     "output_type": "execute_result"
    }
   ],
   "source": [
    "data=data.dropna(axis = 0, how ='any')\n",
    "data.isnull().values.any()"
   ]
  },
  {
   "cell_type": "markdown",
   "metadata": {},
   "source": [
    "All missing values have been removed"
   ]
  },
  {
   "cell_type": "markdown",
   "metadata": {},
   "source": [
    "## Feature Selection<a id='FS'></a>"
   ]
  },
  {
   "cell_type": "markdown",
   "metadata": {},
   "source": [
    "<p>now that we know we are going to use SageMaker built-in K-Means algorithm, and understand that the algorithm attempts to find discrete groupings within data, where members of a group are as similar as possible to one another and as different as possible from members of other groups. the only features that are reasonable to provide to the algorithm are 'latitude' and 'longitude', because we want the algorithm to group data points by a geographical closeness and not by sighting's shape/weather/witnesses number/the name of the person who saw the sighting/other.</p>\n",
    "    <p>but still there is a feature the I think we should take in account - 'researchOutcome', from my prospective not all the data point should treat equally, data point that with researchOutcome='probable' should be more importent than 'explained' or 'unexplained' and data point that with researchOutcome='unexplained' should be more importent than 'explained'.</p>\n",
    "<p>therefor I have decided to do oversampling for 'unexplained' and 'probable', first let's see 'researchOutcome' distribution and decide how to oversample from each of the groups.</p>"
   ]
  },
  {
   "cell_type": "markdown",
   "metadata": {},
   "source": [
    "## Exploratory data analysis (EDA)<a id='eda'></a>"
   ]
  },
  {
   "cell_type": "code",
   "execution_count": 5,
   "metadata": {},
   "outputs": [],
   "source": [
    "data=data[['latitude','longitude','researchOutcome']]\n",
    "data['researchOutcome']=data['researchOutcome'].astype('category')"
   ]
  },
  {
   "cell_type": "code",
   "execution_count": 9,
   "metadata": {},
   "outputs": [
    {
     "data": {
      "image/png": "[encoded data removed]",
      "text/plain": [
       "<Figure size 432x288 with 1 Axes>"
      ]
     },
     "metadata": {},
     "output_type": "display_data"
    }
   ],
   "source": [
    "# Distribution for researchOutcome\n",
    "import matplotlib.pyplot as plt\n",
    "import seaborn as sns\n",
    "sns.set_context(\"paper\", font_scale=1.4)\n",
    "\n",
    "sns.countplot(x='researchOutcome',data=data)\n",
    "plt.show()"
   ]
  },
  {
   "cell_type": "markdown",
   "metadata": {},
   "source": [
    "by the distribution for `researchOutcome` I have decided to mutiple each `researchOutcome`='probable' by 4 (oversample) and `researchOutcome`='unexplained' by 2, we want to give these points more weight but not too much that will totally change the dataset."
   ]
  },
  {
   "cell_type": "markdown",
   "metadata": {},
   "source": [
    "## Data Preparation<a id='dp'></a>"
   ]
  },
  {
   "cell_type": "code",
   "execution_count": 10,
   "metadata": {},
   "outputs": [],
   "source": [
    "oversample_data=data.copy()\n",
    "\n",
    "# create more data points for 'probable' - add 3 copies of the dataset of point with researchOutcome='probable'\n",
    "data_to_oversample=oversample_data[oversample_data['researchOutcome']=='probable']\n",
    "oversample_data=pd.concat([data_to_oversample,data_to_oversample,data_to_oversample,oversample_data],ignore_index=True)\n",
    "# create more data points for 'unexplained' - add 1 copies of the dataset of point with researchOutcome='unexplained'\n",
    "data_to_oversample=oversample_data[oversample_data['researchOutcome']=='unexplained']\n",
    "oversample_data=pd.concat([data_to_oversample,oversample_data],ignore_index=True)"
   ]
  },
  {
   "cell_type": "code",
   "execution_count": 11,
   "metadata": {},
   "outputs": [
    {
     "data": {
      "image/png": "[encoded data removed]",
      "text/plain": [
       "<Figure size 432x288 with 1 Axes>"
      ]
     },
     "metadata": {},
     "output_type": "display_data"
    }
   ],
   "source": [
    "# Distribution for researchOutcome with the new oversampled data\n",
    "sns.countplot(x='researchOutcome',data=oversample_data)\n",
    "plt.show()"
   ]
  },
  {
   "cell_type": "markdown",
   "metadata": {},
   "source": [
    "## Modeling<a id='model'></a>\n",
    "I have decided to run 2 train jobs, one with the origin dataset on `latitude` and `longitude` features and the other with the oversample dataset on `latitude` and `longitude` features, and at the end I will compare the results.\n",
    "\n",
    "### General Configuration for both of the Training Job in SageMaker"
   ]
  },
  {
   "cell_type": "code",
   "execution_count": 12,
   "metadata": {},
   "outputs": [],
   "source": [
    "# this code was written base on \"https://docs.aws.amazon.com/sagemaker/latest/dg/k-means.html#kmeans-sample-notebooks\"\n",
    "from sagemaker import get_execution_role\n",
    "from sagemaker.session import Session\n",
    "from sagemaker import KMeans\n",
    "\n",
    "role = get_execution_role()\n",
    "bucket='<PUT_HERE_THE_BUCKET_NAME>'\n",
    "num_of_clusters = 10"
   ]
  },
  {
   "cell_type": "markdown",
   "metadata": {},
   "source": [
    "### Origin Dataset - Configuration"
   ]
  },
  {
   "cell_type": "code",
   "execution_count": 13,
   "metadata": {},
   "outputs": [],
   "source": [
    "output_folder_path = 'ModelingLab - 2019/original_dataset_output'\n",
    "output_location = 's3://{}/{}'.format(bucket,output_folder_path)\n",
    "\n",
    "#for 'train_instance_type' go to https://aws.amazon.com/sagemaker/pricing/instance-types/\n",
    "kmeans_1 = KMeans(role=role,\n",
    "                  train_instance_count=1,\n",
    "                  train_instance_type='ml.p3.16xlarge',\n",
    "                  output_path=output_location,\n",
    "                  k=num_of_clusters)"
   ]
  },
  {
   "cell_type": "code",
   "execution_count": 14,
   "metadata": {},
   "outputs": [],
   "source": [
    "# convert our DataFrame to numpy.ndarray because kmeans.record_set() Build a RecordSet from a numpy ndarray matrix\n",
    "# https://sagemaker.readthedocs.io/en/stable/kmeans.html\n",
    "data_numpy_1=data[['longitude','latitude']].to_numpy(dtype='float32')"
   ]
  },
  {
   "cell_type": "code",
   "execution_count": 17,
   "metadata": {},
   "outputs": [
    {
     "name": "stdout",
     "output_type": "stream",
     "text": [
      "2019-11-08 23:11:46 Starting - Starting the training job...\n",
      "2019-11-08 23:11:47 Starting - Launching requested ML instances......\n",
      "2019-11-08 23:13:14 Starting - Preparing the instances for training.........\n",
      "2019-11-08 23:14:40 Downloading - Downloading input data\n",
      "2019-11-08 23:14:40 Training - Downloading the training image....\u001b[31mDocker entrypoint called with argument(s): train\u001b[0m\n",
      "\u001b[31m[11/08/2019 23:15:21 INFO 140189007181632] Reading default configuration from /opt/amazon/lib/python2.7/site-packages/algorithm/resources/default-input.json: {u'_enable_profiler': u'false', u'_tuning_objective_metric': u'', u'_num_gpus': u'auto', u'local_lloyd_num_trials': u'auto', u'_log_level': u'info', u'_kvstore': u'auto', u'local_lloyd_init_method': u'kmeans++', u'force_dense': u'true', u'epochs': u'1', u'init_method': u'random', u'local_lloyd_tol': u'0.0001', u'local_lloyd_max_iter': u'300', u'_disable_wait_to_read': u'false', u'extra_center_factor': u'auto', u'eval_metrics': u'[\"msd\"]', u'_num_kv_servers': u'1', u'mini_batch_size': u'5000', u'half_life_time_size': u'0', u'_num_slices': u'1'}\u001b[0m\n",
      "\u001b[31m[11/08/2019 23:15:21 INFO 140189007181632] Reading provided configuration from /opt/ml/input/config/hyperparameters.json: {u'feature_dim': u'2', u'k': u'10', u'force_dense': u'True'}\u001b[0m\n",
      "\u001b[31m[11/08/2019 23:15:21 INFO 140189007181632] Final configuration: {u'_tuning_objective_metric': u'', u'extra_center_factor': u'auto', u'local_lloyd_init_method': u'kmeans++', u'force_dense': u'True', u'epochs': u'1', u'feature_dim': u'2', u'local_lloyd_tol': u'0.0001', u'_disable_wait_to_read': u'false', u'eval_metrics': u'[\"msd\"]', u'_num_kv_servers': u'1', u'mini_batch_size': u'5000', u'_enable_profiler': u'false', u'_num_gpus': u'auto', u'local_lloyd_num_trials': u'auto', u'_log_level': u'info', u'init_method': u'random', u'half_life_time_size': u'0', u'local_lloyd_max_iter': u'300', u'_kvstore': u'auto', u'k': u'10', u'_num_slices': u'1'}\u001b[0m\n",
      "\u001b[31m[11/08/2019 23:15:21 WARNING 140189007181632] Loggers have already been setup.\u001b[0m\n",
      "\u001b[31mProcess 1 is a worker.\u001b[0m\n",
      "\u001b[31m[11/08/2019 23:15:21 INFO 140189007181632] Using default worker.\u001b[0m\n",
      "\u001b[31m[11/08/2019 23:15:21 INFO 140189007181632] Loaded iterator creator application/x-recordio-protobuf for content type ('application/x-recordio-protobuf', '1.0')\u001b[0m\n",
      "\u001b[31m[11/08/2019 23:15:21 INFO 140189007181632] Create Store: local\u001b[0m\n",
      "\u001b[31m[11/08/2019 23:15:21 INFO 140189007181632] nvidia-smi took: 0.100833177567 secs to identify 8 gpus\u001b[0m\n",
      "\u001b[31m[11/08/2019 23:15:21 INFO 140189007181632] Number of GPUs being used: 8\u001b[0m\n",
      "\u001b[31m[11/08/2019 23:15:21 INFO 140189007181632] Setting up with params: {u'_tuning_objective_metric': u'', u'extra_center_factor': u'auto', u'local_lloyd_init_method': u'kmeans++', u'force_dense': u'True', u'epochs': u'1', u'feature_dim': u'2', u'local_lloyd_tol': u'0.0001', u'_disable_wait_to_read': u'false', u'eval_metrics': u'[\"msd\"]', u'_num_kv_servers': u'1', u'mini_batch_size': u'5000', u'_enable_profiler': u'false', u'_num_gpus': u'auto', u'local_lloyd_num_trials': u'auto', u'_log_level': u'info', u'init_method': u'random', u'half_life_time_size': u'0', u'local_lloyd_max_iter': u'300', u'_kvstore': u'auto', u'k': u'10', u'_num_slices': u'1'}\u001b[0m\n",
      "\u001b[31m[11/08/2019 23:15:21 INFO 140189007181632] 'extra_center_factor' was set to 'auto', evaluated to 10.\u001b[0m\n",
      "\u001b[31m[11/08/2019 23:15:21 INFO 140189007181632] Number of GPUs being used: 8\u001b[0m\n",
      "\u001b[31m[11/08/2019 23:15:21 INFO 140189007181632] number of center slices 1\u001b[0m\n",
      "\u001b[31m#metrics {\"Metrics\": {\"Max Batches Seen Between Resets\": {\"count\": 1, \"max\": 1, \"sum\": 1.0, \"min\": 1}, \"Number of Batches Since Last Reset\": {\"count\": 1, \"max\": 1, \"sum\": 1.0, \"min\": 1}, \"Number of Records Since Last Reset\": {\"count\": 1, \"max\": 5000, \"sum\": 5000.0, \"min\": 5000}, \"Total Batches Seen\": {\"count\": 1, \"max\": 1, \"sum\": 1.0, \"min\": 1}, \"Total Records Seen\": {\"count\": 1, \"max\": 5000, \"sum\": 5000.0, \"min\": 5000}, \"Max Records Seen Between Resets\": {\"count\": 1, \"max\": 5000, \"sum\": 5000.0, \"min\": 5000}, \"Reset Count\": {\"count\": 1, \"max\": 0, \"sum\": 0.0, \"min\": 0}}, \"EndTime\": 1573254928.513594, \"Dimensions\": {\"Host\": \"algo-1\", \"Meta\": \"init_train_data_iter\", \"Operation\": \"training\", \"Algorithm\": \"AWS/KMeansWebscale\"}, \"StartTime\": 1573254928.513555}\n",
      "\u001b[0m\n",
      "\u001b[31m[2019-11-08 23:15:28.513] [tensorio] [info] epoch_stats={\"data_pipeline\": \"/opt/ml/input/data/train\", \"epoch\": 0, \"duration\": 6903, \"num_examples\": 1, \"num_bytes\": 160000}\u001b[0m\n",
      "\u001b[31m[2019-11-08 23:15:28.559] [tensorio] [info] epoch_stats={\"data_pipeline\": \"/opt/ml/input/data/train\", \"epoch\": 1, \"duration\": 44, \"num_examples\": 4, \"num_bytes\": 575936}\u001b[0m\n",
      "\u001b[31m[11/08/2019 23:15:28 INFO 140189007181632] processed a total of 17998 examples\u001b[0m\n",
      "\u001b[31m[11/08/2019 23:15:28 INFO 140189007181632] #progress_metric: host=algo-1, completed 100 % of epochs\u001b[0m\n",
      "\u001b[31m#metrics {\"Metrics\": {\"Max Batches Seen Between Resets\": {\"count\": 1, \"max\": 4, \"sum\": 4.0, \"min\": 4}, \"Number of Batches Since Last Reset\": {\"count\": 1, \"max\": 4, \"sum\": 4.0, \"min\": 4}, \"Number of Records Since Last Reset\": {\"count\": 1, \"max\": 17998, \"sum\": 17998.0, \"min\": 17998}, \"Total Batches Seen\": {\"count\": 1, \"max\": 5, \"sum\": 5.0, \"min\": 5}, \"Total Records Seen\": {\"count\": 1, \"max\": 22998, \"sum\": 22998.0, \"min\": 22998}, \"Max Records Seen Between Resets\": {\"count\": 1, \"max\": 17998, \"sum\": 17998.0, \"min\": 17998}, \"Reset Count\": {\"count\": 1, \"max\": 1, \"sum\": 1.0, \"min\": 1}}, \"EndTime\": 1573254928.559807, \"Dimensions\": {\"Host\": \"algo-1\", \"Meta\": \"training_data_iter\", \"Operation\": \"training\", \"Algorithm\": \"AWS/KMeansWebscale\", \"epoch\": 0}, \"StartTime\": 1573254928.513842}\n",
      "\u001b[0m\n",
      "\u001b[31m[11/08/2019 23:15:28 INFO 140189007181632] #throughput_metric: host=algo-1, train throughput=390784.858091 records/second\u001b[0m\n",
      "\u001b[31m[11/08/2019 23:15:28 WARNING 140189007181632] wait_for_all_workers will not sync workers since the kv store is not running distributed\u001b[0m\n",
      "\u001b[31m[11/08/2019 23:15:28 INFO 140189007181632] shrinking 100 centers into 10\u001b[0m\n",
      "\u001b[31m[11/08/2019 23:15:28 INFO 140189007181632] local kmeans attempt #0. Current mean square distance 42.989708\u001b[0m\n",
      "\u001b[31m[11/08/2019 23:15:28 INFO 140189007181632] local kmeans attempt #1. Current mean square distance 46.496460\u001b[0m\n",
      "\u001b[31m[11/08/2019 23:15:28 INFO 140189007181632] local kmeans attempt #2. Current mean square distance 42.738453\u001b[0m\n",
      "\u001b[31m[11/08/2019 23:15:28 INFO 140189007181632] local kmeans attempt #3. Current mean square distance 46.885288\u001b[0m\n",
      "\u001b[31m[11/08/2019 23:15:28 INFO 140189007181632] local kmeans attempt #4. Current mean square distance 53.049305\u001b[0m\n",
      "\u001b[31m[11/08/2019 23:15:28 INFO 140189007181632] local kmeans attempt #5. Current mean square distance 51.974617\u001b[0m\n",
      "\u001b[31m[11/08/2019 23:15:28 INFO 140189007181632] local kmeans attempt #6. Current mean square distance 47.536716\u001b[0m\n",
      "\u001b[31m[11/08/2019 23:15:28 INFO 140189007181632] local kmeans attempt #7. Current mean square distance 47.895790\u001b[0m\n",
      "\u001b[31m[11/08/2019 23:15:28 INFO 140189007181632] local kmeans attempt #8. Current mean square distance 45.763416\u001b[0m\n",
      "\u001b[31m[11/08/2019 23:15:28 INFO 140189007181632] local kmeans attempt #9. Current mean square distance 42.772350\u001b[0m\n",
      "\u001b[31m[11/08/2019 23:15:28 INFO 140189007181632] finished shrinking process. Mean Square Distance = 43\u001b[0m\n",
      "\u001b[31m[11/08/2019 23:15:28 INFO 140189007181632] #quality_metric: host=algo-1, train msd <loss>=42.7384529114\u001b[0m\n",
      "\u001b[31m[11/08/2019 23:15:28 INFO 140189007181632] collect from kv store took: 18.9439%, (0.010045 secs)\u001b[0m\n",
      "\u001b[31m[11/08/2019 23:15:28 INFO 140189007181632] batch data loading with context took: 16.7397%, (0.008876 secs)\u001b[0m\n",
      "\u001b[31m[11/08/2019 23:15:28 INFO 140189007181632] splitting centers key-value pair took: 15.9587%, (0.008462 secs)\u001b[0m\n",
      "\u001b[31m[11/08/2019 23:15:28 INFO 140189007181632] compute all data-center distances: inner product took: 12.6471%, (0.006706 secs)\u001b[0m\n",
      "\u001b[31m[11/08/2019 23:15:28 INFO 140189007181632] compute all data-center distances: point norm took: 8.2860%, (0.004394 secs)\u001b[0m\n",
      "\u001b[31m[11/08/2019 23:15:28 INFO 140189007181632] predict compute msd took: 7.8526%, (0.004164 secs)\u001b[0m\n",
      "\u001b[31m[11/08/2019 23:15:28 INFO 140189007181632] gradient: cluster center took: 6.5630%, (0.003480 secs)\u001b[0m\n",
      "\u001b[31m[11/08/2019 23:15:28 INFO 140189007181632] update state and report convergance took: 4.5014%, (0.002387 secs)\u001b[0m\n",
      "\u001b[31m[11/08/2019 23:15:28 INFO 140189007181632] gradient: one_hot took: 4.2145%, (0.002235 secs)\u001b[0m\n",
      "\u001b[31m[11/08/2019 23:15:28 INFO 140189007181632] update set-up time took: 2.0068%, (0.001064 secs)\u001b[0m\n",
      "\u001b[31m[11/08/2019 23:15:28 INFO 140189007181632] gradient: cluster size  took: 1.0782%, (0.000572 secs)\u001b[0m\n",
      "\u001b[31m[11/08/2019 23:15:28 INFO 140189007181632] compute all data-center distances: center norm took: 1.0670%, (0.000566 secs)\u001b[0m\n",
      "\u001b[31m[11/08/2019 23:15:28 INFO 140189007181632] predict minus dist took: 0.1412%, (0.000075 secs)\u001b[0m\n",
      "\u001b[31m[11/08/2019 23:15:28 INFO 140189007181632] TOTAL took: 0.0530240535736\u001b[0m\n",
      "\u001b[31m[11/08/2019 23:15:28 INFO 140189007181632] Number of GPUs being used: 8\u001b[0m\n",
      "\u001b[31m#metrics {\"Metrics\": {\"finalize.time\": {\"count\": 1, \"max\": 350.9659767150879, \"sum\": 350.9659767150879, \"min\": 350.9659767150879}, \"initialize.time\": {\"count\": 1, \"max\": 6895.849943161011, \"sum\": 6895.849943161011, \"min\": 6895.849943161011}, \"model.serialize.time\": {\"count\": 1, \"max\": 0.24509429931640625, \"sum\": 0.24509429931640625, \"min\": 0.24509429931640625}, \"update.time\": {\"count\": 1, \"max\": 45.81785202026367, \"sum\": 45.81785202026367, \"min\": 45.81785202026367}, \"epochs\": {\"count\": 1, \"max\": 1, \"sum\": 1.0, \"min\": 1}, \"state.serialize.time\": {\"count\": 1, \"max\": 1.0190010070800781, \"sum\": 1.0190010070800781, \"min\": 1.0190010070800781}, \"_shrink.time\": {\"count\": 1, \"max\": 349.1690158843994, \"sum\": 349.1690158843994, \"min\": 349.1690158843994}}, \"EndTime\": 1573254928.91242, \"Dimensions\": {\"Host\": \"algo-1\", \"Operation\": \"training\", \"Algorithm\": \"AWS/KMeansWebscale\"}, \"StartTime\": 1573254921.608776}\n",
      "\u001b[0m\n",
      "\u001b[31m[11/08/2019 23:15:28 INFO 140189007181632] Test data is not provided.\u001b[0m\n",
      "\u001b[31m#metrics {\"Metrics\": {\"totaltime\": {\"count\": 1, \"max\": 7445.446968078613, \"sum\": 7445.446968078613, \"min\": 7445.446968078613}, \"setuptime\": {\"count\": 1, \"max\": 13.484001159667969, \"sum\": 13.484001159667969, \"min\": 13.484001159667969}}, \"EndTime\": 1573254928.912715, \"Dimensions\": {\"Host\": \"algo-1\", \"Operation\": \"training\", \"Algorithm\": \"AWS/KMeansWebscale\"}, \"StartTime\": 1573254928.912513}\n",
      "\u001b[0m\n"
     ]
    },
    {
     "name": "stdout",
     "output_type": "stream",
     "text": [
      "\n",
      "2019-11-08 23:15:37 Uploading - Uploading generated training model\n",
      "2019-11-08 23:15:37 Completed - Training job completed\n",
      "Training seconds: 62\n",
      "Billable seconds: 62\n",
      "CPU times: user 862 ms, sys: 11.5 ms, total: 873 ms\n",
      "Wall time: 4min 12s\n"
     ]
    }
   ],
   "source": [
    "%%time\n",
    "kmeans_1.fit(kmeans_1.record_set(data_numpy_1),logs=True,job_name='ufo-modeling-lab-originalDatasetOutput')"
   ]
  },
  {
   "cell_type": "markdown",
   "metadata": {},
   "source": [
    "### Oversampled Dataset - Configuration"
   ]
  },
  {
   "cell_type": "code",
   "execution_count": 18,
   "metadata": {},
   "outputs": [],
   "source": [
    "output_folder_path = 'ModelingLab - 2019/oversampled_dataset_output'\n",
    "output_location = 's3://{}/{}'.format(bucket,output_folder_path)\n",
    "\n",
    "#for 'train_instance_type' go to https://aws.amazon.com/sagemaker/pricing/instance-types/\n",
    "kmeans_2 = KMeans(role=role,\n",
    "                  train_instance_count=1,\n",
    "                  train_instance_type='ml.p3.16xlarge',\n",
    "                  output_path=output_location,\n",
    "                  k=num_of_clusters)"
   ]
  },
  {
   "cell_type": "code",
   "execution_count": 19,
   "metadata": {},
   "outputs": [],
   "source": [
    "# convert our DataFrame to numpy.ndarray because kmeans.record_set() Build a RecordSet from a numpy ndarray matrix\n",
    "# https://sagemaker.readthedocs.io/en/stable/kmeans.html\n",
    "data_numpy_2=oversample_data[['longitude','latitude']].to_numpy(dtype='float32')"
   ]
  },
  {
   "cell_type": "code",
   "execution_count": 20,
   "metadata": {
    "scrolled": true
   },
   "outputs": [
    {
     "name": "stdout",
     "output_type": "stream",
     "text": [
      "2019-11-08 23:16:25 Starting - Starting the training job...\n",
      "2019-11-08 23:16:27 Starting - Launching requested ML instances.........\n",
      "2019-11-08 23:17:57 Starting - Preparing the instances for training...\n",
      "2019-11-08 23:18:52 Downloading - Downloading input data...\n",
      "2019-11-08 23:19:04 Training - Downloading the training image..\u001b[31mDocker entrypoint called with argument(s): train\u001b[0m\n",
      "\u001b[31m[11/08/2019 23:19:35 INFO 139673144878912] Reading default configuration from /opt/amazon/lib/python2.7/site-packages/algorithm/resources/default-input.json: {u'_enable_profiler': u'false', u'_tuning_objective_metric': u'', u'_num_gpus': u'auto', u'local_lloyd_num_trials': u'auto', u'_log_level': u'info', u'_kvstore': u'auto', u'local_lloyd_init_method': u'kmeans++', u'force_dense': u'true', u'epochs': u'1', u'init_method': u'random', u'local_lloyd_tol': u'0.0001', u'local_lloyd_max_iter': u'300', u'_disable_wait_to_read': u'false', u'extra_center_factor': u'auto', u'eval_metrics': u'[\"msd\"]', u'_num_kv_servers': u'1', u'mini_batch_size': u'5000', u'half_life_time_size': u'0', u'_num_slices': u'1'}\u001b[0m\n",
      "\u001b[31m[11/08/2019 23:19:35 INFO 139673144878912] Reading provided configuration from /opt/ml/input/config/hyperparameters.json: {u'feature_dim': u'2', u'k': u'10', u'force_dense': u'True'}\u001b[0m\n",
      "\u001b[31m[11/08/2019 23:19:35 INFO 139673144878912] Final configuration: {u'_tuning_objective_metric': u'', u'extra_center_factor': u'auto', u'local_lloyd_init_method': u'kmeans++', u'force_dense': u'True', u'epochs': u'1', u'feature_dim': u'2', u'local_lloyd_tol': u'0.0001', u'_disable_wait_to_read': u'false', u'eval_metrics': u'[\"msd\"]', u'_num_kv_servers': u'1', u'mini_batch_size': u'5000', u'_enable_profiler': u'false', u'_num_gpus': u'auto', u'local_lloyd_num_trials': u'auto', u'_log_level': u'info', u'init_method': u'random', u'half_life_time_size': u'0', u'local_lloyd_max_iter': u'300', u'_kvstore': u'auto', u'k': u'10', u'_num_slices': u'1'}\u001b[0m\n",
      "\u001b[31m[11/08/2019 23:19:35 WARNING 139673144878912] Loggers have already been setup.\u001b[0m\n",
      "\u001b[31mProcess 1 is a worker.\u001b[0m\n",
      "\u001b[31m[11/08/2019 23:19:35 INFO 139673144878912] Using default worker.\u001b[0m\n",
      "\u001b[31m[11/08/2019 23:19:35 INFO 139673144878912] Loaded iterator creator application/x-recordio-protobuf for content type ('application/x-recordio-protobuf', '1.0')\u001b[0m\n",
      "\u001b[31m[11/08/2019 23:19:35 INFO 139673144878912] Create Store: local\u001b[0m\n",
      "\u001b[31m[11/08/2019 23:19:35 INFO 139673144878912] nvidia-smi took: 0.100847005844 secs to identify 8 gpus\u001b[0m\n",
      "\u001b[31m[11/08/2019 23:19:35 INFO 139673144878912] Number of GPUs being used: 8\u001b[0m\n",
      "\u001b[31m[11/08/2019 23:19:35 INFO 139673144878912] Setting up with params: {u'_tuning_objective_metric': u'', u'extra_center_factor': u'auto', u'local_lloyd_init_method': u'kmeans++', u'force_dense': u'True', u'epochs': u'1', u'feature_dim': u'2', u'local_lloyd_tol': u'0.0001', u'_disable_wait_to_read': u'false', u'eval_metrics': u'[\"msd\"]', u'_num_kv_servers': u'1', u'mini_batch_size': u'5000', u'_enable_profiler': u'false', u'_num_gpus': u'auto', u'local_lloyd_num_trials': u'auto', u'_log_level': u'info', u'init_method': u'random', u'half_life_time_size': u'0', u'local_lloyd_max_iter': u'300', u'_kvstore': u'auto', u'k': u'10', u'_num_slices': u'1'}\u001b[0m\n",
      "\u001b[31m[11/08/2019 23:19:35 INFO 139673144878912] 'extra_center_factor' was set to 'auto', evaluated to 10.\u001b[0m\n",
      "\u001b[31m[11/08/2019 23:19:35 INFO 139673144878912] Number of GPUs being used: 8\u001b[0m\n",
      "\u001b[31m[11/08/2019 23:19:35 INFO 139673144878912] number of center slices 1\u001b[0m\n",
      "\n",
      "2019-11-08 23:19:54 Uploading - Uploading generated training model\n",
      "2019-11-08 23:19:54 Completed - Training job completed\n",
      "\u001b[31m#metrics {\"Metrics\": {\"Max Batches Seen Between Resets\": {\"count\": 1, \"max\": 1, \"sum\": 1.0, \"min\": 1}, \"Number of Batches Since Last Reset\": {\"count\": 1, \"max\": 1, \"sum\": 1.0, \"min\": 1}, \"Number of Records Since Last Reset\": {\"count\": 1, \"max\": 5000, \"sum\": 5000.0, \"min\": 5000}, \"Total Batches Seen\": {\"count\": 1, \"max\": 1, \"sum\": 1.0, \"min\": 1}, \"Total Records Seen\": {\"count\": 1, \"max\": 5000, \"sum\": 5000.0, \"min\": 5000}, \"Max Records Seen Between Resets\": {\"count\": 1, \"max\": 5000, \"sum\": 5000.0, \"min\": 5000}, \"Reset Count\": {\"count\": 1, \"max\": 0, \"sum\": 0.0, \"min\": 0}}, \"EndTime\": 1573255182.905497, \"Dimensions\": {\"Host\": \"algo-1\", \"Meta\": \"init_train_data_iter\", \"Operation\": \"training\", \"Algorithm\": \"AWS/KMeansWebscale\"}, \"StartTime\": 1573255182.90546}\n",
      "\u001b[0m\n",
      "\u001b[31m[2019-11-08 23:19:42.905] [tensorio] [info] epoch_stats={\"data_pipeline\": \"/opt/ml/input/data/train\", \"epoch\": 0, \"duration\": 7092, \"num_examples\": 1, \"num_bytes\": 160000}\u001b[0m\n",
      "\u001b[31m[2019-11-08 23:19:42.959] [tensorio] [info] epoch_stats={\"data_pipeline\": \"/opt/ml/input/data/train\", \"epoch\": 1, \"duration\": 52, \"num_examples\": 6, \"num_bytes\": 861312}\u001b[0m\n",
      "\u001b[31m[11/08/2019 23:19:42 INFO 139673144878912] processed a total of 26916 examples\u001b[0m\n",
      "\u001b[31m[11/08/2019 23:19:42 INFO 139673144878912] #progress_metric: host=algo-1, completed 100 % of epochs\u001b[0m\n",
      "\u001b[31m#metrics {\"Metrics\": {\"Max Batches Seen Between Resets\": {\"count\": 1, \"max\": 6, \"sum\": 6.0, \"min\": 6}, \"Number of Batches Since Last Reset\": {\"count\": 1, \"max\": 6, \"sum\": 6.0, \"min\": 6}, \"Number of Records Since Last Reset\": {\"count\": 1, \"max\": 26916, \"sum\": 26916.0, \"min\": 26916}, \"Total Batches Seen\": {\"count\": 1, \"max\": 7, \"sum\": 7.0, \"min\": 7}, \"Total Records Seen\": {\"count\": 1, \"max\": 31916, \"sum\": 31916.0, \"min\": 31916}, \"Max Records Seen Between Resets\": {\"count\": 1, \"max\": 26916, \"sum\": 26916.0, \"min\": 26916}, \"Reset Count\": {\"count\": 1, \"max\": 1, \"sum\": 1.0, \"min\": 1}}, \"EndTime\": 1573255182.959502, \"Dimensions\": {\"Host\": \"algo-1\", \"Meta\": \"training_data_iter\", \"Operation\": \"training\", \"Algorithm\": \"AWS/KMeansWebscale\", \"epoch\": 0}, \"StartTime\": 1573255182.905732}\n",
      "\u001b[0m\n",
      "\u001b[31m[11/08/2019 23:19:42 INFO 139673144878912] #throughput_metric: host=algo-1, train throughput=499731.690477 records/second\u001b[0m\n",
      "\u001b[31m[11/08/2019 23:19:42 WARNING 139673144878912] wait_for_all_workers will not sync workers since the kv store is not running distributed\u001b[0m\n",
      "\u001b[31m[11/08/2019 23:19:42 INFO 139673144878912] shrinking 100 centers into 10\u001b[0m\n",
      "\u001b[31m[11/08/2019 23:19:43 INFO 139673144878912] local kmeans attempt #0. Current mean square distance 36.958920\u001b[0m\n",
      "\u001b[31m[11/08/2019 23:19:43 INFO 139673144878912] local kmeans attempt #1. Current mean square distance 31.243607\u001b[0m\n",
      "\u001b[31m[11/08/2019 23:19:43 INFO 139673144878912] local kmeans attempt #2. Current mean square distance 34.835793\u001b[0m\n",
      "\u001b[31m[11/08/2019 23:19:43 INFO 139673144878912] local kmeans attempt #3. Current mean square distance 32.882275\u001b[0m\n",
      "\u001b[31m[11/08/2019 23:19:43 INFO 139673144878912] local kmeans attempt #4. Current mean square distance 36.529385\u001b[0m\n",
      "\u001b[31m[11/08/2019 23:19:43 INFO 139673144878912] local kmeans attempt #5. Current mean square distance 33.396969\u001b[0m\n",
      "\u001b[31m[11/08/2019 23:19:43 INFO 139673144878912] local kmeans attempt #6. Current mean square distance 32.258026\u001b[0m\n",
      "\u001b[31m[11/08/2019 23:19:43 INFO 139673144878912] local kmeans attempt #7. Current mean square distance 35.448063\u001b[0m\n",
      "\u001b[31m[11/08/2019 23:19:43 INFO 139673144878912] local kmeans attempt #8. Current mean square distance 30.605474\u001b[0m\n",
      "\u001b[31m[11/08/2019 23:19:43 INFO 139673144878912] local kmeans attempt #9. Current mean square distance 39.992313\u001b[0m\n",
      "\u001b[31m[11/08/2019 23:19:43 INFO 139673144878912] finished shrinking process. Mean Square Distance = 31\u001b[0m\n",
      "\u001b[31m[11/08/2019 23:19:43 INFO 139673144878912] #quality_metric: host=algo-1, train msd <loss>=30.605474472\u001b[0m\n",
      "\u001b[31m[11/08/2019 23:19:43 INFO 139673144878912] collect from kv store took: 18.4105%, (0.011257 secs)\u001b[0m\n",
      "\u001b[31m[11/08/2019 23:19:43 INFO 139673144878912] batch data loading with context took: 15.4497%, (0.009446 secs)\u001b[0m\n",
      "\u001b[31m[11/08/2019 23:19:43 INFO 139673144878912] splitting centers key-value pair took: 15.0122%, (0.009179 secs)\u001b[0m\n",
      "\u001b[31m[11/08/2019 23:19:43 INFO 139673144878912] compute all data-center distances: inner product took: 12.5486%, (0.007673 secs)\u001b[0m\n",
      "\u001b[31m[11/08/2019 23:19:43 INFO 139673144878912] gradient: cluster center took: 9.9403%, (0.006078 secs)\u001b[0m\n",
      "\u001b[31m[11/08/2019 23:19:43 INFO 139673144878912] predict compute msd took: 7.4595%, (0.004561 secs)\u001b[0m\n",
      "\u001b[31m[11/08/2019 23:19:43 INFO 139673144878912] compute all data-center distances: point norm took: 7.1004%, (0.004341 secs)\u001b[0m\n",
      "\u001b[31m[11/08/2019 23:19:43 INFO 139673144878912] update state and report convergance took: 5.4525%, (0.003334 secs)\u001b[0m\n",
      "\u001b[31m[11/08/2019 23:19:43 INFO 139673144878912] gradient: one_hot took: 3.8733%, (0.002368 secs)\u001b[0m\n",
      "\u001b[31m[11/08/2019 23:19:43 INFO 139673144878912] update set-up time took: 1.8206%, (0.001113 secs)\u001b[0m\n",
      "\u001b[31m[11/08/2019 23:19:43 INFO 139673144878912] compute all data-center distances: center norm took: 1.4276%, (0.000873 secs)\u001b[0m\n",
      "\u001b[31m[11/08/2019 23:19:43 INFO 139673144878912] gradient: cluster size  took: 1.3118%, (0.000802 secs)\u001b[0m\n",
      "\u001b[31m[11/08/2019 23:19:43 INFO 139673144878912] predict minus dist took: 0.1930%, (0.000118 secs)\u001b[0m\n",
      "\u001b[31m[11/08/2019 23:19:43 INFO 139673144878912] TOTAL took: 0.0611426830292\u001b[0m\n",
      "\u001b[31m[11/08/2019 23:19:43 INFO 139673144878912] Number of GPUs being used: 8\u001b[0m\n",
      "\u001b[31m#metrics {\"Metrics\": {\"finalize.time\": {\"count\": 1, \"max\": 448.76790046691895, \"sum\": 448.76790046691895, \"min\": 448.76790046691895}, \"initialize.time\": {\"count\": 1, \"max\": 7084.007024765015, \"sum\": 7084.007024765015, \"min\": 7084.007024765015}, \"model.serialize.time\": {\"count\": 1, \"max\": 0.2598762512207031, \"sum\": 0.2598762512207031, \"min\": 0.2598762512207031}, \"update.time\": {\"count\": 1, \"max\": 53.61580848693848, \"sum\": 53.61580848693848, \"min\": 53.61580848693848}, \"epochs\": {\"count\": 1, \"max\": 1, \"sum\": 1.0, \"min\": 1}, \"state.serialize.time\": {\"count\": 1, \"max\": 1.0399818420410156, \"sum\": 1.0399818420410156, \"min\": 1.0399818420410156}, \"_shrink.time\": {\"count\": 1, \"max\": 447.0498561859131, \"sum\": 447.0498561859131, \"min\": 447.0498561859131}}, \"EndTime\": 1573255183.410054, \"Dimensions\": {\"Host\": \"algo-1\", \"Operation\": \"training\", \"Algorithm\": \"AWS/KMeansWebscale\"}, \"StartTime\": 1573255175.812501}\n",
      "\u001b[0m\n",
      "\u001b[31m[11/08/2019 23:19:43 INFO 139673144878912] Test data is not provided.\u001b[0m\n",
      "\u001b[31m#metrics {\"Metrics\": {\"totaltime\": {\"count\": 1, \"max\": 7741.581201553345, \"sum\": 7741.581201553345, \"min\": 7741.581201553345}, \"setuptime\": {\"count\": 1, \"max\": 14.322042465209961, \"sum\": 14.322042465209961, \"min\": 14.322042465209961}}, \"EndTime\": 1573255183.410326, \"Dimensions\": {\"Host\": \"algo-1\", \"Operation\": \"training\", \"Algorithm\": \"AWS/KMeansWebscale\"}, \"StartTime\": 1573255183.41014}\n",
      "\u001b[0m\n"
     ]
    },
    {
     "name": "stdout",
     "output_type": "stream",
     "text": [
      "Training seconds: 62\n",
      "Billable seconds: 62\n",
      "CPU times: user 941 ms, sys: 15.7 ms, total: 956 ms\n",
      "Wall time: 3min 42s\n"
     ]
    }
   ],
   "source": [
    "%%time\n",
    "kmeans_2.fit(kmeans_2.record_set(data_numpy_2),logs=True,job_name='ufo-modeling-lab-oversampledDatasetOutput')"
   ]
  },
  {
   "cell_type": "markdown",
   "metadata": {},
   "source": [
    "## Results<a id='results'></a>\n",
    "### Downloading trained model from an S3 Bucket to Notebook instance"
   ]
  },
  {
   "cell_type": "code",
   "execution_count": 22,
   "metadata": {},
   "outputs": [],
   "source": [
    "import boto3\n",
    "import botocore\n",
    "\n",
    "BUCKET_NAME = '<PUT_HERE_THE_BUCKET_NAME>'\n",
    "FILE_PATH_1 = 'ModelingLab - 2019/original_dataset_output/ufo-modeling-lab-originalDatasetOutput/output/model.tar.gz'\n",
    "FILE_PATH_2 = 'ModelingLab - 2019/oversampled_dataset_output/ufo-modeling-lab-oversampledDatasetOutput/output/model.tar.gz'\n",
    "key_dict={'original_dataset_output':FILE_PATH_1,'oversampled_dataset_output':FILE_PATH_2}\n",
    "\n",
    "s3 = boto3.resource('s3')\n",
    "\n",
    "for i in key_dict:\n",
    "    try:\n",
    "        s3.Bucket(BUCKET_NAME).download_file(key_dict[i], i+'.tar.gz')\n",
    "    except botocore.exceptions.ClientError as e:\n",
    "        if e.response['Error']['Code'] == \"404\":\n",
    "            print(\"The object does not exist.\")\n",
    "        else:\n",
    "            raise"
   ]
  },
  {
   "cell_type": "markdown",
   "metadata": {},
   "source": [
    "### Unzip model file in the Notebook instance"
   ]
  },
  {
   "cell_type": "code",
   "execution_count": 34,
   "metadata": {},
   "outputs": [
    {
     "name": "stdout",
     "output_type": "stream",
     "text": [
      "unzip /original_dataset_output/model_algo-1\n",
      "unzip /oversampled_dataset_output/model_algo-1\n"
     ]
    }
   ],
   "source": [
    "import os\n",
    "\n",
    "for i in key_dict:\n",
    "    os.system('mkdir '+i)\n",
    "    os.system('tar -C '+i+'/ -zxvf '+i+'.tar.gz')"
   ]
  },
  {
   "cell_type": "markdown",
   "metadata": {},
   "source": [
    "### Draw the points on a map\n",
    "#### Install Libraries"
   ]
  },
  {
   "cell_type": "code",
   "execution_count": 35,
   "metadata": {
    "collapsed": true
   },
   "outputs": [
    {
     "name": "stdout",
     "output_type": "stream",
     "text": [
      "Collecting mxnet\n",
      "\u001b[?25l  Downloading https://files.pythonhosted.org/packages/92/6c/c6e5562f8face683cec73f5d4d74a58f8572c0595d54f1fed9d923020bbd/mxnet-1.5.1.post0-py2.py3-none-manylinux1_x86_64.whl (25.4MB)\n",
      "\u001b[K    100% |████████████████████████████████| 25.4MB 1.8MB/s eta 0:00:01    62% |████████████████████▏           | 16.0MB 45.4MB/s eta 0:00:01\n",
      "\u001b[?25hCollecting graphviz<0.9.0,>=0.8.1 (from mxnet)\n",
      "  Downloading https://files.pythonhosted.org/packages/53/39/4ab213673844e0c004bed8a0781a0721a3f6bb23eb8854ee75c236428892/graphviz-0.8.4-py2.py3-none-any.whl\n",
      "Requirement already satisfied: requests<3,>=2.20.0 in /home/ec2-user/anaconda3/envs/python3/lib/python3.6/site-packages (from mxnet) (2.20.0)\n",
      "Collecting numpy<2.0.0,>1.16.0 (from mxnet)\n",
      "\u001b[?25l  Downloading https://files.pythonhosted.org/packages/0e/46/ae6773894f7eacf53308086287897ec568eac9768918d913d5b9d366c5db/numpy-1.17.3-cp36-cp36m-manylinux1_x86_64.whl (20.0MB)\n",
      "\u001b[K    100% |████████████████████████████████| 20.0MB 2.8MB/s eta 0:00:01   20% |██████▊                         | 4.2MB 63.5MB/s eta 0:00:01\n",
      "\u001b[?25hRequirement already satisfied: idna<2.8,>=2.5 in /home/ec2-user/anaconda3/envs/python3/lib/python3.6/site-packages (from requests<3,>=2.20.0->mxnet) (2.6)\n",
      "Requirement already satisfied: chardet<3.1.0,>=3.0.2 in /home/ec2-user/anaconda3/envs/python3/lib/python3.6/site-packages (from requests<3,>=2.20.0->mxnet) (3.0.4)\n",
      "Requirement already satisfied: urllib3<1.25,>=1.21.1 in /home/ec2-user/anaconda3/envs/python3/lib/python3.6/site-packages (from requests<3,>=2.20.0->mxnet) (1.23)\n",
      "Requirement already satisfied: certifi>=2017.4.17 in /home/ec2-user/anaconda3/envs/python3/lib/python3.6/site-packages (from requests<3,>=2.20.0->mxnet) (2019.6.16)\n",
      "Installing collected packages: graphviz, numpy, mxnet\n",
      "  Found existing installation: numpy 1.14.3\n",
      "    Uninstalling numpy-1.14.3:\n",
      "      Successfully uninstalled numpy-1.14.3\n",
      "Successfully installed graphviz-0.8.4 mxnet-1.5.1.post0 numpy-1.17.3\n",
      "\u001b[33mYou are using pip version 10.0.1, however version 19.3.1 is available.\n",
      "You should consider upgrading via the 'pip install --upgrade pip' command.\u001b[0m\n"
     ]
    }
   ],
   "source": [
    "!pip install mxnet\n",
    "!pip install shapely\n",
    "!pip install geopandas\n",
    "!pip install descartes"
   ]
  },
  {
   "cell_type": "markdown",
   "metadata": {},
   "source": [
    "#### original dataset output"
   ]
  },
  {
   "cell_type": "code",
   "execution_count": 39,
   "metadata": {},
   "outputs": [
    {
     "data": {
      "text/html": [
       "<div>\n",
       "<style scoped>\n",
       "    .dataframe tbody tr th:only-of-type {\n",
       "        vertical-align: middle;\n",
       "    }\n",
       "\n",
       "    .dataframe tbody tr th {\n",
       "        vertical-align: top;\n",
       "    }\n",
       "\n",
       "    .dataframe thead th {\n",
       "        text-align: right;\n",
       "    }\n",
       "</style>\n",
       "<table border=\"1\" class=\"dataframe\">\n",
       "  <thead>\n",
       "    <tr style=\"text-align: right;\">\n",
       "      <th></th>\n",
       "      <th>longitude</th>\n",
       "      <th>latitude</th>\n",
       "    </tr>\n",
       "  </thead>\n",
       "  <tbody>\n",
       "    <tr>\n",
       "      <th>0</th>\n",
       "      <td>-87.168442</td>\n",
       "      <td>41.502136</td>\n",
       "    </tr>\n",
       "    <tr>\n",
       "      <th>1</th>\n",
       "      <td>3.913269</td>\n",
       "      <td>50.439400</td>\n",
       "    </tr>\n",
       "    <tr>\n",
       "      <th>2</th>\n",
       "      <td>-118.426498</td>\n",
       "      <td>35.273296</td>\n",
       "    </tr>\n",
       "    <tr>\n",
       "      <th>3</th>\n",
       "      <td>147.612915</td>\n",
       "      <td>-31.971569</td>\n",
       "    </tr>\n",
       "    <tr>\n",
       "      <th>4</th>\n",
       "      <td>-82.494690</td>\n",
       "      <td>31.490051</td>\n",
       "    </tr>\n",
       "    <tr>\n",
       "      <th>5</th>\n",
       "      <td>97.864342</td>\n",
       "      <td>15.963917</td>\n",
       "    </tr>\n",
       "    <tr>\n",
       "      <th>6</th>\n",
       "      <td>-74.870834</td>\n",
       "      <td>41.306282</td>\n",
       "    </tr>\n",
       "    <tr>\n",
       "      <th>7</th>\n",
       "      <td>-122.310440</td>\n",
       "      <td>48.011696</td>\n",
       "    </tr>\n",
       "    <tr>\n",
       "      <th>8</th>\n",
       "      <td>-98.078049</td>\n",
       "      <td>35.381287</td>\n",
       "    </tr>\n",
       "    <tr>\n",
       "      <th>9</th>\n",
       "      <td>-6.308319</td>\n",
       "      <td>-25.694458</td>\n",
       "    </tr>\n",
       "  </tbody>\n",
       "</table>\n",
       "</div>"
      ],
      "text/plain": [
       "    longitude   latitude\n",
       "0  -87.168442  41.502136\n",
       "1    3.913269  50.439400\n",
       "2 -118.426498  35.273296\n",
       "3  147.612915 -31.971569\n",
       "4  -82.494690  31.490051\n",
       "5   97.864342  15.963917\n",
       "6  -74.870834  41.306282\n",
       "7 -122.310440  48.011696\n",
       "8  -98.078049  35.381287\n",
       "9   -6.308319 -25.694458"
      ]
     },
     "execution_count": 39,
     "metadata": {},
     "output_type": "execute_result"
    }
   ],
   "source": [
    "import mxnet as mx\n",
    "\n",
    "Kmeans_model_params_1 = mx.ndarray.load(list(key_dict.keys())[0]+'/model_algo-1')\n",
    "cluster_centroids_kmeans_1 = pd.DataFrame(Kmeans_model_params_1[0].asnumpy())\n",
    "cluster_centroids_kmeans_1.columns=['longitude','latitude']\n",
    "cluster_centroids_kmeans_1"
   ]
  },
  {
   "cell_type": "code",
   "execution_count": 48,
   "metadata": {},
   "outputs": [
    {
     "data": {
      "image/png": "[encoded data removed]",
      "text/plain": [
       "<Figure size 720x432 with 1 Axes>"
      ]
     },
     "metadata": {},
     "output_type": "display_data"
    }
   ],
   "source": [
    "from shapely.geometry import Point\n",
    "import geopandas as gpd\n",
    "from geopandas import GeoDataFrame\n",
    "\n",
    "geometry = [Point(xy) for xy in zip(cluster_centroids_kmeans_1['longitude'], cluster_centroids_kmeans_1['latitude'])]\n",
    "gdf = GeoDataFrame(cluster_centroids_kmeans_1, geometry=geometry)   \n",
    "\n",
    "#this is a simple map that goes with geopandas\n",
    "world = gpd.read_file(gpd.datasets.get_path('naturalearth_lowres'))\n",
    "gdf.plot(ax=world.plot(figsize=(10, 6)), marker='o', color='black', markersize=15);\n",
    "plt.show()"
   ]
  },
  {
   "cell_type": "markdown",
   "metadata": {},
   "source": [
    "#### oversampled dataset output"
   ]
  },
  {
   "cell_type": "code",
   "execution_count": 40,
   "metadata": {},
   "outputs": [
    {
     "data": {
      "text/html": [
       "<div>\n",
       "<style scoped>\n",
       "    .dataframe tbody tr th:only-of-type {\n",
       "        vertical-align: middle;\n",
       "    }\n",
       "\n",
       "    .dataframe tbody tr th {\n",
       "        vertical-align: top;\n",
       "    }\n",
       "\n",
       "    .dataframe thead th {\n",
       "        text-align: right;\n",
       "    }\n",
       "</style>\n",
       "<table border=\"1\" class=\"dataframe\">\n",
       "  <thead>\n",
       "    <tr style=\"text-align: right;\">\n",
       "      <th></th>\n",
       "      <th>longitude</th>\n",
       "      <th>latitude</th>\n",
       "    </tr>\n",
       "  </thead>\n",
       "  <tbody>\n",
       "    <tr>\n",
       "      <th>0</th>\n",
       "      <td>-99.213089</td>\n",
       "      <td>34.573288</td>\n",
       "    </tr>\n",
       "    <tr>\n",
       "      <th>1</th>\n",
       "      <td>3.382004</td>\n",
       "      <td>50.712002</td>\n",
       "    </tr>\n",
       "    <tr>\n",
       "      <th>2</th>\n",
       "      <td>120.959106</td>\n",
       "      <td>-5.910084</td>\n",
       "    </tr>\n",
       "    <tr>\n",
       "      <th>3</th>\n",
       "      <td>-117.671219</td>\n",
       "      <td>35.702499</td>\n",
       "    </tr>\n",
       "    <tr>\n",
       "      <th>4</th>\n",
       "      <td>-75.094498</td>\n",
       "      <td>41.331425</td>\n",
       "    </tr>\n",
       "    <tr>\n",
       "      <th>5</th>\n",
       "      <td>18.683708</td>\n",
       "      <td>-25.356354</td>\n",
       "    </tr>\n",
       "    <tr>\n",
       "      <th>6</th>\n",
       "      <td>-121.119476</td>\n",
       "      <td>47.015095</td>\n",
       "    </tr>\n",
       "    <tr>\n",
       "      <th>7</th>\n",
       "      <td>-153.243866</td>\n",
       "      <td>44.520145</td>\n",
       "    </tr>\n",
       "    <tr>\n",
       "      <th>8</th>\n",
       "      <td>-88.412445</td>\n",
       "      <td>41.321365</td>\n",
       "    </tr>\n",
       "    <tr>\n",
       "      <th>9</th>\n",
       "      <td>-82.486305</td>\n",
       "      <td>31.290245</td>\n",
       "    </tr>\n",
       "  </tbody>\n",
       "</table>\n",
       "</div>"
      ],
      "text/plain": [
       "    longitude   latitude\n",
       "0  -99.213089  34.573288\n",
       "1    3.382004  50.712002\n",
       "2  120.959106  -5.910084\n",
       "3 -117.671219  35.702499\n",
       "4  -75.094498  41.331425\n",
       "5   18.683708 -25.356354\n",
       "6 -121.119476  47.015095\n",
       "7 -153.243866  44.520145\n",
       "8  -88.412445  41.321365\n",
       "9  -82.486305  31.290245"
      ]
     },
     "execution_count": 40,
     "metadata": {},
     "output_type": "execute_result"
    }
   ],
   "source": [
    "import mxnet as mx\n",
    "\n",
    "Kmeans_model_params_2 = mx.ndarray.load(list(key_dict.keys())[1]+'/model_algo-1')\n",
    "cluster_centroids_kmeans_2 = pd.DataFrame(Kmeans_model_params_2[0].asnumpy())\n",
    "cluster_centroids_kmeans_2.columns=['longitude','latitude']\n",
    "cluster_centroids_kmeans_2"
   ]
  },
  {
   "cell_type": "code",
   "execution_count": 50,
   "metadata": {},
   "outputs": [
    {
     "data": {
      "image/png": "[encoded data removed]",
      "text/plain": [
       "<Figure size 720x432 with 1 Axes>"
      ]
     },
     "metadata": {},
     "output_type": "display_data"
    }
   ],
   "source": [
    "from shapely.geometry import Point\n",
    "import geopandas as gpd\n",
    "from geopandas import GeoDataFrame\n",
    "\n",
    "geometry = [Point(xy) for xy in zip(cluster_centroids_kmeans_2['longitude'], cluster_centroids_kmeans_2['latitude'])]\n",
    "gdf = GeoDataFrame(cluster_centroids_kmeans_2, geometry=geometry)   \n",
    "\n",
    "#this is a simple map that goes with geopandas\n",
    "world = gpd.read_file(gpd.datasets.get_path('naturalearth_lowres'))\n",
    "gdf.plot(ax=world.plot(figsize=(10, 6)), marker='o', color='red', markersize=15);\n",
    "plt.show()"
   ]
  },
  {
   "cell_type": "markdown",
   "metadata": {},
   "source": [
    "## Summary <a id='summary'></a>\n",
    "for summary, from the points on the maps we can see that:\n",
    "1. six points that were placed in USA are identical for both of the trained models.\n",
    "1. the point that was placed in Europe is identical for both of the trained models.\n",
    "1. rest of the points were placed on different places for both of the trained models.\n",
    "\n",
    "I can't say if one model is better than the other, but it was a fun ride!"
   ]
  }
 ],
 "metadata": {
  "kernelspec": {
   "display_name": "conda_python3",
   "language": "python",
   "name": "conda_python3"
  },
  "language_info": {
   "codemirror_mode": {
    "name": "ipython",
    "version": 3
   },
   "file_extension": ".py",
   "mimetype": "text/x-python",
   "name": "python",
   "nbconvert_exporter": "python",
   "pygments_lexer": "ipython3",
   "version": "3.6.5"
  }
 },
 "nbformat": 4,
 "nbformat_minor": 2
}
