{
 "cells": [
  {
   "cell_type": "markdown",
   "metadata": {},
   "source": [
    "# Evaluation and Optimization Lab\n",
    "<font color=\"red\">Notice that this Lab is part B of <a href=\"https://github.com/ipetel/AWS_Certified_ML-acloud.guru/tree/master/CHAPTER%207%20-%20Algorithms/Algorithms%20Lab\">Algorithms Lab</a></font>\n",
    "\n",
    "<u>Use Case</u>\n",
    "<p>Mr. K has given us the go to use the Linear Learner model for identifying the legitimacy of a reported UFO sighting. He plans to send out a team of scientist to any reported sighting predicted probable or unexplained. Before deploying the model, he wants us to make sure we have the most optimized model, improve any performance in training, and possibly improve accuracy.\n",
    "</p>\n",
    "\n",
    "<u>Goal</u>\n",
    "<p>Tune our model to find the most optimized model for our problem.</p>"
   ]
  },
  {
   "cell_type": "markdown",
   "metadata": {},
   "source": [
    "<u>Notebook - Table Of Contents</u>\n",
    "\n",
    "1. [Datasets](#d)\n",
    "1. [Hyperparameter Tuning Job](#h)\n",
    "1. [Inference using the Best Training Job](#b)\n",
    "1. [Results](#res)\n",
    "\n",
    "<u>Note</u>\n",
    "1. in most of code cell that I'm using external libraries I'm importing it every time, although I can import all of them once on the start of the notebook, I wanted to show what libraries I'm using on every step.\n",
    "2. there are numerous times that I'm assigning the same variables with the same values on different cells, again just want to to show what variables are used on every step."
   ]
  },
  {
   "cell_type": "markdown",
   "metadata": {},
   "source": [
    "## Datasets<a id='d'></a>\n",
    "From the previous lab (Algorithms Lab) we have train, validation, and train datasets in S3 that are already cleaned and tansformed. "
   ]
  },
  {
   "cell_type": "code",
   "execution_count": 16,
   "metadata": {},
   "outputs": [],
   "source": [
    "import boto3\n",
    "\n",
    "bucket_name = '<PUT_HERE_THE_BUCKET_NAME>'\n",
    "data_folder_path = 'AlgorithmsLab - 2019'\n",
    "file_names_list=['ufo-algorithms-lab-train.csv',\n",
    "                 'ufo-algorithms-lab-validation.csv',\n",
    "                 'ufo-algorithms-lab-test.csv',\n",
    "                 'ufo-algorithms-lab-test-no-label.csv']\n",
    "\n",
    "s3_path_train = 's3://{}/'.format(bucket_name)+data_folder_path+'/'+file_names_list[0]\n",
    "s3_path_validation = 's3://{}/'.format(bucket_name)+data_folder_path+'/'+file_names_list[1]\n",
    "s3_path_test = 's3://{}/'.format(bucket_name)+data_folder_path+'/'+file_names_list[2]\n",
    "s3_path_test_without_label='s3://{}/'.format(bucket_name)+data_folder_path+'/'+file_names_list[3]\n",
    "\n",
    "\n",
    "import sagemaker\n",
    "\n",
    "# create inputs channels\n",
    "s3_input_train = sagemaker.s3_input(s3_data=s3_path_train, content_type='text/csv')\n",
    "s3_input_validation = sagemaker.s3_input(s3_data=s3_path_validation, content_type='text/csv')\n",
    "s3_input_test = sagemaker.s3_input(s3_data=s3_path_test, content_type='text/csv')\n",
    "\n",
    "data_channels = {\n",
    "    'train': s3_input_train,\n",
    "    'validation': s3_input_validation,\n",
    "    'test':s3_input_test\n",
    "}"
   ]
  },
  {
   "cell_type": "markdown",
   "metadata": {},
   "source": [
    "## Hyperparameter Tuning Job<a id='h'></a>\n",
    "Create a training job"
   ]
  },
  {
   "cell_type": "code",
   "execution_count": 39,
   "metadata": {},
   "outputs": [],
   "source": [
    "output_folder_path='EvaluationAndOptimizationLab - 2019/'\n",
    "output_location = 's3://{}/{}'.format(bucket_name,output_folder_path+'output/')\n",
    "\n",
    "# get IAM role\n",
    "from sagemaker import get_execution_role\n",
    "role = get_execution_role()\n",
    "\n",
    "# Configure training job, establish SagMaker session\n",
    "sess = sagemaker.Session()\n",
    "\n",
    "# get ECR container\n",
    "from sagemaker.amazon.amazon_estimator import get_image_uri\n",
    "container = get_image_uri(boto3.Session().region_name, 'linear-learner','1')\n",
    "\n",
    "# create Estimator\n",
    "LinearLearner_conf = sagemaker.estimator.Estimator(container,\n",
    "                                                   role,\n",
    "                                                   train_instance_count=1,\n",
    "                                                   train_instance_type='ml.m5.4xlarge',\n",
    "                                                   output_path=output_location,\n",
    "                                                   sagemaker_session=sess)\n",
    "\n",
    "#for 'train_instance_type' go to https://aws.amazon.com/sagemaker/pricing/instance-types/"
   ]
  },
  {
   "cell_type": "code",
   "execution_count": 3,
   "metadata": {},
   "outputs": [],
   "source": [
    "from datetime import datetime\n",
    "\n",
    "training_job_name='ufo-evaluationAndOptimization-linearLearner-classification-{}'.format(datetime.now().strftime(\"%Y%m%d%H%M%S\"))\n",
    "\n",
    "# for 'hyperparameters' go to: https://docs.aws.amazon.com/sagemaker/latest/dg/ll_hyperparameters.html\n",
    "LinearLearner_conf.set_hyperparameters(feature_dim=14,\n",
    "                                       predictor_type='multiclass_classifier',\n",
    "                                       num_classes=3,\n",
    "                                       balance_multiclass_weights='true',\n",
    "                                       loss='softmax_loss',\n",
    "                                       normalize_data='false',\n",
    "                                       optimizer='adam')"
   ]
  },
  {
   "cell_type": "markdown",
   "metadata": {},
   "source": [
    "define the hyperparameter ranges and the objective metric:"
   ]
  },
  {
   "cell_type": "code",
   "execution_count": 4,
   "metadata": {},
   "outputs": [],
   "source": [
    "# for Tuning Linear Learner Hyperparameters there are only 6 possible Hyperparameters to tune, I added them all\n",
    "# for more info go to: https://docs.aws.amazon.com/sagemaker/latest/dg/linear-learner-tuning.html\n",
    "from sagemaker.tuner import IntegerParameter, CategoricalParameter, ContinuousParameter, CategoricalParameter, HyperparameterTuner\n",
    "\n",
    "hyperparameter_ranges = {'wd': ContinuousParameter(1e-7, 1),\n",
    "                         'l1': ContinuousParameter(1e-7, 1),\n",
    "                         'learning_rate': ContinuousParameter(1e-5, 1),\n",
    "                         'mini_batch_size': IntegerParameter(100, 5000),\n",
    "                         'use_bias': CategoricalParameter([True, False]),\n",
    "                         'positive_example_weight_mult': ContinuousParameter(1e-5, 1e5)}"
   ]
  },
  {
   "cell_type": "markdown",
   "metadata": {},
   "source": [
    "Now, we'll create a HyperparameterTuner object, to which we pass the estimator, hyperparameter ranges, Objective metric, and Tuning resource configurations."
   ]
  },
  {
   "cell_type": "code",
   "execution_count": 5,
   "metadata": {},
   "outputs": [],
   "source": [
    "objective_metric_name = 'validation:objective_loss'\n",
    "\n",
    "tuner = HyperparameterTuner(estimator=LinearLearner_conf,\n",
    "                            objective_metric_name=objective_metric_name,\n",
    "                            hyperparameter_ranges=hyperparameter_ranges,\n",
    "                            strategy='Bayesian',\n",
    "                            objective_type='Minimize',\n",
    "                            max_jobs=50,\n",
    "                            max_parallel_jobs=5,\n",
    "                            base_tuning_job_name='HyperparameterTuner_LinearLearner-')"
   ]
  },
  {
   "cell_type": "markdown",
   "metadata": {},
   "source": [
    "Launch Hyperparameter Tuning:"
   ]
  },
  {
   "cell_type": "code",
   "execution_count": null,
   "metadata": {},
   "outputs": [],
   "source": [
    "hyperparameter_tuning_job_name='ll-multiclass-HyperparamTuning-1'\n",
    "tuner.fit(inputs=data_channels, job_name=hyperparameter_tuning_job_name ,include_cls_metadata=False)"
   ]
  },
  {
   "cell_type": "markdown",
   "metadata": {},
   "source": [
    "Let's just run a quick check of the hyperparameter tuning jobs status to make sure it Completed."
   ]
  },
  {
   "cell_type": "code",
   "execution_count": 7,
   "metadata": {},
   "outputs": [
    {
     "data": {
      "text/plain": [
       "'Completed'"
      ]
     },
     "execution_count": 7,
     "metadata": {},
     "output_type": "execute_result"
    }
   ],
   "source": [
    "boto3.client('sagemaker').describe_hyper_parameter_tuning_job(\n",
    "    HyperParameterTuningJobName=hyperparameter_tuning_job_name)['HyperParameterTuningJobStatus']"
   ]
  },
  {
   "cell_type": "markdown",
   "metadata": {},
   "source": [
    "Hyper Parameter Tuning Job Completed, now let's get the best model and check the accuracy for the test dataset.\n",
    "## Inference using the Best Training Job<a id='b'></a>"
   ]
  },
  {
   "cell_type": "code",
   "execution_count": 8,
   "metadata": {},
   "outputs": [],
   "source": [
    "tuning_job_result=boto3.client('sagemaker').describe_hyper_parameter_tuning_job(HyperParameterTuningJobName=hyperparameter_tuning_job_name)\n",
    "best_training_job_name = tuning_job_result['BestTrainingJob']['TrainingJobName']"
   ]
  },
  {
   "cell_type": "markdown",
   "metadata": {},
   "source": [
    "Create model from best training job"
   ]
  },
  {
   "cell_type": "code",
   "execution_count": 9,
   "metadata": {},
   "outputs": [],
   "source": [
    "#for more info about \"Model\" go to :https://sagemaker.readthedocs.io/en/stable/model.html\n",
    "best_training_job_model=sagemaker.model.Model(model_data='s3://{}/'.format(bucket_name)+'EvaluationAndOptimizationLab - 2019/output/'+best_training_job_name+'/output/model.tar.gz',\n",
    "                                              role=role,\n",
    "                                              image=container,\n",
    "                                              name='best-training-job-LinearLearner-1',\n",
    "                                              sagemaker_session=sess)"
   ]
  },
  {
   "cell_type": "markdown",
   "metadata": {},
   "source": [
    "Batch Transform (test the model)"
   ]
  },
  {
   "cell_type": "code",
   "execution_count": null,
   "metadata": {},
   "outputs": [],
   "source": [
    "#for more info about \"transformer\" go to https://sagemaker.readthedocs.io/en/stable/transformer.html\n",
    "best_training_job_tran=best_training_job_model.transformer(instance_count=1,\n",
    "                                                           instance_type='ml.m5.4xlarge')"
   ]
  },
  {
   "cell_type": "code",
   "execution_count": 11,
   "metadata": {
    "scrolled": true
   },
   "outputs": [
    {
     "name": "stdout",
     "output_type": "stream",
     "text": [
      "..................\n",
      "\u001b[31mDocker entrypoint called with argument(s): serve\u001b[0m\n",
      "\u001b[31m[11/26/2019 19:46:27 INFO 140461579978560] loaded entry point class algorithm.serve.server_config:config_api\u001b[0m\n",
      "\u001b[31m[11/26/2019 19:46:27 INFO 140461579978560] loading entry points\u001b[0m\n",
      "\u001b[31m[11/26/2019 19:46:27 INFO 140461579978560] loaded request iterator text/csv\u001b[0m\n",
      "\u001b[31m[11/26/2019 19:46:27 INFO 140461579978560] loaded request iterator application/x-recordio-protobuf\u001b[0m\n",
      "\u001b[31m[11/26/2019 19:46:27 INFO 140461579978560] loaded request iterator application/json\u001b[0m\n",
      "\u001b[31m[11/26/2019 19:46:27 INFO 140461579978560] loaded request iterator application/jsonlines\u001b[0m\n",
      "\u001b[31m[11/26/2019 19:46:27 INFO 140461579978560] loaded response encoder text/csv\u001b[0m\n",
      "\u001b[31m[11/26/2019 19:46:27 INFO 140461579978560] loaded response encoder application/x-recordio-protobuf\u001b[0m\n",
      "\u001b[31m[11/26/2019 19:46:27 INFO 140461579978560] loaded response encoder application/json\u001b[0m\n",
      "\u001b[31m[11/26/2019 19:46:27 INFO 140461579978560] loaded response encoder application/jsonlines\u001b[0m\n",
      "\u001b[31m[11/26/2019 19:46:27 INFO 140461579978560] loaded entry point class algorithm:model\u001b[0m\n",
      "\u001b[31m[11/26/2019 19:46:27 INFO 140461579978560] loading model...\u001b[0m\n",
      "\u001b[31m[11/26/2019 19:46:27 INFO 140461579978560] ...model loaded.\u001b[0m\n",
      "\u001b[31m[11/26/2019 19:46:27 INFO 140461579978560] Number of server workers: 16\u001b[0m\n",
      "\u001b[31m[2019-11-26 19:46:27 +0000] [1] [INFO] Starting gunicorn 19.7.1\u001b[0m\n",
      "\u001b[31m[2019-11-26 19:46:27 +0000] [1] [INFO] Listening at: http://0.0.0.0:8080 (1)\u001b[0m\n",
      "\u001b[31m[2019-11-26 19:46:27 +0000] [1] [INFO] Using worker: sync\u001b[0m\n",
      "\u001b[31m[2019-11-26 19:46:27 +0000] [89] [INFO] Booting worker with pid: 89\u001b[0m\n",
      "\u001b[31m[2019-11-26 19:46:28 +0000] [98] [INFO] Booting worker with pid: 98\u001b[0m\n",
      "\u001b[31m[2019-11-26 19:46:28 +0000] [107] [INFO] Booting worker with pid: 107\u001b[0m\n",
      "\u001b[31m[2019-11-26 19:46:28 +0000] [116] [INFO] Booting worker with pid: 116\u001b[0m\n",
      "\u001b[31m[2019-11-26 19:46:28 +0000] [125] [INFO] Booting worker with pid: 125\u001b[0m\n",
      "\u001b[31m[2019-11-26 19:46:28 +0000] [134] [INFO] Booting worker with pid: 134\u001b[0m\n",
      "\u001b[31m[2019-11-26 19:46:29 +0000] [143] [INFO] Booting worker with pid: 143\u001b[0m\n",
      "\u001b[31m[2019-11-26 19:46:29 +0000] [152] [INFO] Booting worker with pid: 152\u001b[0m\n",
      "\u001b[31m[2019-11-26 19:46:29 +0000] [161] [INFO] Booting worker with pid: 161\u001b[0m\n",
      "\u001b[31m[2019-11-26 19:46:29 +0000] [170] [INFO] Booting worker with pid: 170\u001b[0m\n",
      "\u001b[31m[2019-11-26 19:46:29 +0000] [179] [INFO] Booting worker with pid: 179\u001b[0m\n",
      "\u001b[31m[2019-11-26 19:46:29 +0000] [188] [INFO] Booting worker with pid: 188\u001b[0m\n",
      "\u001b[31m[2019-11-26 19:46:29 +0000] [197] [INFO] Booting worker with pid: 197\u001b[0m\n",
      "\u001b[31m[2019-11-26 19:46:29 +0000] [206] [INFO] Booting worker with pid: 206\u001b[0m\n",
      "\u001b[31m[2019-11-26 19:46:29 +0000] [215] [INFO] Booting worker with pid: 215\u001b[0m\n",
      "\u001b[31m[2019-11-26 19:46:29 +0000] [224] [INFO] Booting worker with pid: 224\u001b[0m\n",
      "\u001b[31m#metrics {\"Metrics\": {\"execution_parameters.count\": {\"count\": 1, \"max\": 1, \"sum\": 1.0, \"min\": 1}}, \"EndTime\": 1574797593.567173, \"Dimensions\": {\"Host\": \"UNKNOWN\", \"Operation\": \"scoring\", \"Algorithm\": \"LinearLearnerModel\"}, \"StartTime\": 1574797587.954423}\n",
      "\u001b[0m\n",
      "\u001b[31m#metrics {\"Metrics\": {\"json.encoder.time\": {\"count\": 1, \"max\": 53.87711524963379, \"sum\": 53.87711524963379, \"min\": 53.87711524963379}, \"invocations.count\": {\"count\": 1, \"max\": 1, \"sum\": 1.0, \"min\": 1}}, \"EndTime\": 1574797593.821757, \"Dimensions\": {\"Host\": \"UNKNOWN\", \"Operation\": \"scoring\", \"Algorithm\": \"LinearLearnerModel\"}, \"StartTime\": 1574797587.954423}\n",
      "\u001b[0m\n",
      "\u001b[33m2019-11-26T19:46:33.570:[sagemaker logs]: MaxConcurrentTransforms=16, MaxPayloadInMB=6, BatchStrategy=MULTI_RECORD\u001b[0m\n"
     ]
    }
   ],
   "source": [
    "best_training_job_tran.transform(data=s3_path_test_without_label,\n",
    "                                 content_type='text/csv',\n",
    "                                 split_type='Line',\n",
    "                                 job_name='best-training-job-LinearLearner-BT',\n",
    "                                 logs=True,\n",
    "                                 wait=True)"
   ]
  },
  {
   "cell_type": "markdown",
   "metadata": {},
   "source": [
    "get the predictions from the model:"
   ]
  },
  {
   "cell_type": "code",
   "execution_count": 14,
   "metadata": {},
   "outputs": [
    {
     "data": {
      "text/plain": [
       "0    0\n",
       "1    1\n",
       "2    0\n",
       "3    1\n",
       "4    1\n",
       "Name: predict_group, dtype: int64"
      ]
     },
     "execution_count": 14,
     "metadata": {},
     "output_type": "execute_result"
    }
   ],
   "source": [
    "import pandas as pd\n",
    "import json\n",
    "import io\n",
    "from urllib.parse import urlparse\n",
    "\n",
    "def get_csv_output_from_s3(s3uri, file_name):\n",
    "    parsed_url = urlparse(s3uri)\n",
    "    bucket_name = parsed_url.netloc\n",
    "    prefix = parsed_url.path[1:]\n",
    "    s3 = boto3.resource('s3')\n",
    "    obj = s3.Object(bucket_name, '{}/{}'.format(prefix, file_name))\n",
    "    return obj.get()[\"Body\"].read().decode('utf-8')\n",
    "\n",
    "output = get_csv_output_from_s3(best_training_job_tran.output_path, '{}.out'.format(file_names_list[3]))\n",
    "output_df = pd.read_csv(io.StringIO(output), sep=\",\", header=None)\n",
    "\n",
    "#save only the prediction results without the score + change to type 'int'\n",
    "output_df=pd.to_numeric(output_df[0].str.replace('{\"predicted_label\":','')).astype(int)\n",
    "\n",
    "#rename the name of the given series object\n",
    "output_df=output_df.rename(\"predict_group\")\n",
    "\n",
    "output_df.head()"
   ]
  },
  {
   "cell_type": "markdown",
   "metadata": {},
   "source": [
    "get the actual label:"
   ]
  },
  {
   "cell_type": "code",
   "execution_count": 32,
   "metadata": {},
   "outputs": [
    {
     "data": {
      "text/plain": [
       "0    0\n",
       "1    1\n",
       "2    1\n",
       "3    1\n",
       "4    1\n",
       "Name: researchOutcome, dtype: int64"
      ]
     },
     "execution_count": 32,
     "metadata": {},
     "output_type": "execute_result"
    }
   ],
   "source": [
    "output = get_csv_output_from_s3('s3://{}/'.format(bucket_name)+data_folder_path,file_names_list[2])\n",
    "\n",
    "colnames=[\"researchOutcome\",\"duration\",\"latitude\",\"longitude\",\"hasPhysicalEvidence\",\"hadContact\",\"shape_box\",\"shape_circle\",\"shape_disk\",\"shape_light\",\"shape_oval\",\"shape_pyramid\",\"shape_sphere\",\"shape_square\",\"shape_triangle\"] \n",
    "data_test = pd.read_csv(io.StringIO(output),sep=\",\", header=None, index_col=False, names=colnames)\n",
    "\n",
    "y_Actual_temp=data_test['researchOutcome']\n",
    "y_Actual_temp.head()"
   ]
  },
  {
   "cell_type": "code",
   "execution_count": 34,
   "metadata": {},
   "outputs": [
    {
     "data": {
      "text/plain": [
       "<matplotlib.axes._subplots.AxesSubplot at 0x7f8c78e49c88>"
      ]
     },
     "execution_count": 34,
     "metadata": {},
     "output_type": "execute_result"
    },
    {
     "data": {
      "image/png": "[encoded data removed]",
      "text/plain": [
       "<Figure size 432x288 with 2 Axes>"
      ]
     },
     "metadata": {},
     "output_type": "display_data"
    }
   ],
   "source": [
    "import pandas as pd\n",
    "import seaborn as sns\n",
    "\n",
    "data_y = {'y_Predicted': output_df,'y_Actual': y_Actual_temp}\n",
    "df = pd.DataFrame(data_y, columns=['y_Actual','y_Predicted'])\n",
    "\n",
    "confusion_matrix = pd.crosstab(df['y_Actual'], df['y_Predicted'], rownames=['Actual'], colnames=['Predicted'])\n",
    "sns.heatmap(confusion_matrix, annot=True)"
   ]
  },
  {
   "cell_type": "markdown",
   "metadata": {},
   "source": [
    "Getting additional stats using pandas_ml"
   ]
  },
  {
   "cell_type": "code",
   "execution_count": 36,
   "metadata": {
    "collapsed": true
   },
   "outputs": [
    {
     "name": "stdout",
     "output_type": "stream",
     "text": [
      "Collecting pandas_ml\n",
      "\u001b[?25l  Downloading https://files.pythonhosted.org/packages/ae/72/6d90debfcb9ea74ec00927fa7ed0204dcc560b1f9ffcd8b239daa7fd106d/pandas_ml-0.6.1-py3-none-any.whl (100kB)\n",
      "\u001b[K    100% |████████████████████████████████| 102kB 26.1MB/s a 0:00:01\n",
      "\u001b[?25hCollecting enum34 (from pandas_ml)\n",
      "  Downloading https://files.pythonhosted.org/packages/af/42/cb9355df32c69b553e72a2e28daee25d1611d2c0d9c272aa1d34204205b2/enum34-1.1.6-py3-none-any.whl\n",
      "Requirement already satisfied: pandas>=0.19.0 in /home/ec2-user/anaconda3/envs/python3/lib/python3.6/site-packages (from pandas_ml) (0.24.2)\n",
      "Requirement already satisfied: pytz>=2011k in /home/ec2-user/anaconda3/envs/python3/lib/python3.6/site-packages (from pandas>=0.19.0->pandas_ml) (2018.4)\n",
      "Requirement already satisfied: python-dateutil>=2.5.0 in /home/ec2-user/anaconda3/envs/python3/lib/python3.6/site-packages (from pandas>=0.19.0->pandas_ml) (2.7.3)\n",
      "Requirement already satisfied: numpy>=1.12.0 in /home/ec2-user/anaconda3/envs/python3/lib/python3.6/site-packages (from pandas>=0.19.0->pandas_ml) (1.14.3)\n",
      "Requirement already satisfied: six>=1.5 in /home/ec2-user/anaconda3/envs/python3/lib/python3.6/site-packages (from python-dateutil>=2.5.0->pandas>=0.19.0->pandas_ml) (1.11.0)\n",
      "Installing collected packages: enum34, pandas-ml\n",
      "Successfully installed enum34-1.1.6 pandas-ml-0.6.1\n",
      "\u001b[33mYou are using pip version 10.0.1, however version 19.3.1 is available.\n",
      "You should consider upgrading via the 'pip install --upgrade pip' command.\u001b[0m\n"
     ]
    }
   ],
   "source": [
    "!pip install pandas_ml"
   ]
  },
  {
   "cell_type": "code",
   "execution_count": 37,
   "metadata": {
    "scrolled": true
   },
   "outputs": [
    {
     "name": "stderr",
     "output_type": "stream",
     "text": [
      "/home/ec2-user/anaconda3/envs/python3/lib/python3.6/site-packages/pandas_ml/confusion_matrix/stats.py:60: FutureWarning: supplying multiple axes to axis is deprecated and will be removed in a future version.\n",
      "  num = df[df > 1].dropna(axis=[0, 1], thresh=1).applymap(lambda n: choose(n, 2)).sum().sum() - np.float64(nis2 * njs2) / n2\n"
     ]
    },
    {
     "name": "stdout",
     "output_type": "stream",
     "text": [
      "Confusion Matrix:\n",
      "\n",
      "Predicted    0     1    2  __all__\n",
      "Actual                            \n",
      "0          626    19   22      667\n",
      "1           95  2473   89     2657\n",
      "2           15    11  378      404\n",
      "__all__    736  2503  489     3728\n",
      "\n",
      "\n",
      "Overall Statistics:\n",
      "\n",
      "Accuracy: 0.9326716738197425\n",
      "95% CI: (0.9241489309480853, 0.9405081331157233)\n",
      "No Information Rate: ToDo\n",
      "P-Value [Acc > NIR]: 0.0\n",
      "Kappa: 0.8573377679220069\n",
      "Mcnemar's Test P-Value: ToDo\n",
      "\n",
      "\n",
      "Class Statistics:\n",
      "\n",
      "Classes                                        0          1           2\n",
      "Population                                  3728       3728        3728\n",
      "P: Condition positive                        667       2657         404\n",
      "N: Condition negative                       3061       1071        3324\n",
      "Test outcome positive                        736       2503         489\n",
      "Test outcome negative                       2992       1225        3239\n",
      "TP: True Positive                            626       2473         378\n",
      "TN: True Negative                           2951       1041        3213\n",
      "FP: False Positive                           110         30         111\n",
      "FN: False Negative                            41        184          26\n",
      "TPR: (Sensitivity, hit rate, recall)    0.938531   0.930749    0.935644\n",
      "TNR=SPC: (Specificity)                  0.964064   0.971989    0.966606\n",
      "PPV: Pos Pred Value (Precision)         0.850543   0.988014    0.773006\n",
      "NPV: Neg Pred Value                     0.986297   0.849796    0.991973\n",
      "FPR: False-out                          0.035936  0.0280112   0.0333935\n",
      "FDR: False Discovery Rate               0.149457  0.0119856    0.226994\n",
      "FNR: Miss Rate                         0.0614693   0.069251   0.0643564\n",
      "ACC: Accuracy                           0.959496   0.942597    0.963251\n",
      "F1 score                                0.892373   0.958527    0.846585\n",
      "MCC: Matthews correlation coefficient   0.869096   0.869668    0.830784\n",
      "Informedness                            0.902595   0.902738     0.90225\n",
      "Markedness                               0.83684    0.83781    0.764979\n",
      "Prevalence                              0.178916   0.712715    0.108369\n",
      "LR+: Positive likelihood ratio           26.1168    33.2277     28.0187\n",
      "LR-: Negative likelihood ratio         0.0637606  0.0712467   0.0665798\n",
      "DOR: Diagnostic odds ratio               409.607    466.376      420.83\n",
      "FOR: False omission rate               0.0137032   0.150204  0.00802717\n"
     ]
    }
   ],
   "source": [
    "from pandas_ml import ConfusionMatrix\n",
    "\n",
    "Confusion_Matrix = ConfusionMatrix(df['y_Actual'], df['y_Predicted'])\n",
    "Confusion_Matrix.print_stats()"
   ]
  },
  {
   "cell_type": "markdown",
   "metadata": {},
   "source": [
    "## Results<a id='res'></a>"
   ]
  },
  {
   "cell_type": "markdown",
   "metadata": {},
   "source": [
    "<font color=\"green\">we can see in the stats report that the \"Accuracy\" value increased from 92.84% to 93.27%</font>"
   ]
  }
 ],
 "metadata": {
  "kernelspec": {
   "display_name": "conda_python3",
   "language": "python",
   "name": "conda_python3"
  },
  "language_info": {
   "codemirror_mode": {
    "name": "ipython",
    "version": 3
   },
   "file_extension": ".py",
   "mimetype": "text/x-python",
   "name": "python",
   "nbconvert_exporter": "python",
   "pygments_lexer": "ipython3",
   "version": "3.6.5"
  }
 },
 "nbformat": 4,
 "nbformat_minor": 2
}
