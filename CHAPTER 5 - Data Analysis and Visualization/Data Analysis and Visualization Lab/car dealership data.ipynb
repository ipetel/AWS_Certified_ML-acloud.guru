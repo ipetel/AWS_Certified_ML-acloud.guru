{
 "cells": [
  {
   "cell_type": "code",
   "execution_count": 1,
   "metadata": {
    "scrolled": false
   },
   "outputs": [
    {
     "name": "stdout",
     "output_type": "stream",
     "text": [
      "Requirement already satisfied: matplotlib in /home/ec2-user/anaconda3/envs/python3/lib/python3.6/site-packages (3.0.3)\n",
      "Requirement already satisfied: kiwisolver>=1.0.1 in /home/ec2-user/anaconda3/envs/python3/lib/python3.6/site-packages (from matplotlib) (1.0.1)\n",
      "Requirement already satisfied: cycler>=0.10 in /home/ec2-user/anaconda3/envs/python3/lib/python3.6/site-packages (from matplotlib) (0.10.0)\n",
      "Requirement already satisfied: pyparsing!=2.0.4,!=2.1.2,!=2.1.6,>=2.0.1 in /home/ec2-user/anaconda3/envs/python3/lib/python3.6/site-packages (from matplotlib) (2.2.0)\n",
      "Requirement already satisfied: numpy>=1.10.0 in /home/ec2-user/anaconda3/envs/python3/lib/python3.6/site-packages (from matplotlib) (1.14.3)\n",
      "Requirement already satisfied: python-dateutil>=2.1 in /home/ec2-user/anaconda3/envs/python3/lib/python3.6/site-packages (from matplotlib) (2.7.3)\n",
      "Requirement already satisfied: setuptools in /home/ec2-user/anaconda3/envs/python3/lib/python3.6/site-packages (from kiwisolver>=1.0.1->matplotlib) (39.1.0)\n",
      "Requirement already satisfied: six in /home/ec2-user/anaconda3/envs/python3/lib/python3.6/site-packages (from cycler>=0.10->matplotlib) (1.11.0)\n"
     ]
    }
   ],
   "source": [
    "#!pip install --upgrade pip\n",
    "!pip install matplotlib"
   ]
  },
  {
   "cell_type": "markdown",
   "metadata": {},
   "source": [
    "### Downloading a File from an S3 Bucket to Notebook instance"
   ]
  },
  {
   "cell_type": "code",
   "execution_count": 2,
   "metadata": {},
   "outputs": [],
   "source": [
    "import boto3\n",
    "import botocore\n",
    "\n",
    "BUCKET_NAME = '<PUT_HERE_THE_BUCKET_NAME>'\n",
    "KEY = 'DataAnalysisAndVisualizationLab - 2019/car_data.csv'\n",
    "\n",
    "s3 = boto3.resource('s3')\n",
    "\n",
    "try:\n",
    "    s3.Bucket(BUCKET_NAME).download_file(KEY, 'car_data.csv')\n",
    "except botocore.exceptions.ClientError as e:\n",
    "    if e.response['Error']['Code'] == \"404\":\n",
    "        print(\"The object does not exist.\")\n",
    "    else:\n",
    "        raise"
   ]
  },
  {
   "cell_type": "markdown",
   "metadata": {},
   "source": [
    "### Load Data from CSV Files to DataFrame using Pandas"
   ]
  },
  {
   "cell_type": "code",
   "execution_count": 3,
   "metadata": {},
   "outputs": [
    {
     "data": {
      "text/html": [
       "<div>\n",
       "<style scoped>\n",
       "    .dataframe tbody tr th:only-of-type {\n",
       "        vertical-align: middle;\n",
       "    }\n",
       "\n",
       "    .dataframe tbody tr th {\n",
       "        vertical-align: top;\n",
       "    }\n",
       "\n",
       "    .dataframe thead th {\n",
       "        text-align: right;\n",
       "    }\n",
       "</style>\n",
       "<table border=\"1\" class=\"dataframe\">\n",
       "  <thead>\n",
       "    <tr style=\"text-align: right;\">\n",
       "      <th></th>\n",
       "      <th>car</th>\n",
       "      <th>year</th>\n",
       "      <th>engine_hp</th>\n",
       "      <th>avg_mpg</th>\n",
       "      <th>price</th>\n",
       "      <th>salesman</th>\n",
       "      <th>dealership</th>\n",
       "      <th>sold_date</th>\n",
       "      <th>sold_month</th>\n",
       "    </tr>\n",
       "  </thead>\n",
       "  <tbody>\n",
       "    <tr>\n",
       "      <th>0</th>\n",
       "      <td>Corvette</td>\n",
       "      <td>2011</td>\n",
       "      <td>335.0</td>\n",
       "      <td>22.5</td>\n",
       "      <td>46135</td>\n",
       "      <td>2</td>\n",
       "      <td>Big Bobs</td>\n",
       "      <td>2012-05-06</td>\n",
       "      <td>5</td>\n",
       "    </tr>\n",
       "    <tr>\n",
       "      <th>1</th>\n",
       "      <td>Corvette</td>\n",
       "      <td>2011</td>\n",
       "      <td>300.0</td>\n",
       "      <td>23.5</td>\n",
       "      <td>40650</td>\n",
       "      <td>2</td>\n",
       "      <td>Uptown Cars</td>\n",
       "      <td>2011-05-16</td>\n",
       "      <td>5</td>\n",
       "    </tr>\n",
       "    <tr>\n",
       "      <th>2</th>\n",
       "      <td>Corvette</td>\n",
       "      <td>2011</td>\n",
       "      <td>300.0</td>\n",
       "      <td>24.0</td>\n",
       "      <td>36350</td>\n",
       "      <td>2</td>\n",
       "      <td>Uptown Cars</td>\n",
       "      <td>2013-07-31</td>\n",
       "      <td>7</td>\n",
       "    </tr>\n",
       "    <tr>\n",
       "      <th>3</th>\n",
       "      <td>Corvette</td>\n",
       "      <td>2011</td>\n",
       "      <td>230.0</td>\n",
       "      <td>23.0</td>\n",
       "      <td>29450</td>\n",
       "      <td>2</td>\n",
       "      <td>Uptown Cars</td>\n",
       "      <td>2014-07-05</td>\n",
       "      <td>7</td>\n",
       "    </tr>\n",
       "    <tr>\n",
       "      <th>4</th>\n",
       "      <td>Corvette</td>\n",
       "      <td>2011</td>\n",
       "      <td>230.0</td>\n",
       "      <td>23.0</td>\n",
       "      <td>34500</td>\n",
       "      <td>2</td>\n",
       "      <td>Uptown Cars</td>\n",
       "      <td>2013-05-20</td>\n",
       "      <td>5</td>\n",
       "    </tr>\n",
       "  </tbody>\n",
       "</table>\n",
       "</div>"
      ],
      "text/plain": [
       "        car  year  engine_hp  avg_mpg  price  salesman   dealership  \\\n",
       "0  Corvette  2011      335.0     22.5  46135         2     Big Bobs   \n",
       "1  Corvette  2011      300.0     23.5  40650         2  Uptown Cars   \n",
       "2  Corvette  2011      300.0     24.0  36350         2  Uptown Cars   \n",
       "3  Corvette  2011      230.0     23.0  29450         2  Uptown Cars   \n",
       "4  Corvette  2011      230.0     23.0  34500         2  Uptown Cars   \n",
       "\n",
       "    sold_date  sold_month  \n",
       "0  2012-05-06           5  \n",
       "1  2011-05-16           5  \n",
       "2  2013-07-31           7  \n",
       "3  2014-07-05           7  \n",
       "4  2013-05-20           5  "
      ]
     },
     "execution_count": 3,
     "metadata": {},
     "output_type": "execute_result"
    }
   ],
   "source": [
    "import pandas as pd \n",
    "\n",
    "data = pd.read_csv(\"car_data.csv\")\n",
    "data.head()"
   ]
  },
  {
   "cell_type": "markdown",
   "metadata": {},
   "source": [
    "### Which month generates the most sales?"
   ]
  },
  {
   "cell_type": "code",
   "execution_count": 4,
   "metadata": {},
   "outputs": [
    {
     "data": {
      "text/plain": [
       "<Figure size 640x480 with 1 Axes>"
      ]
     },
     "metadata": {},
     "output_type": "display_data"
    }
   ],
   "source": [
    "import matplotlib.pyplot as plt\n",
    "\n",
    "s1 = data.groupby('sold_month').size()\n",
    "s1.plot.bar()\n",
    "plt.show()"
   ]
  },
  {
   "cell_type": "markdown",
   "metadata": {},
   "source": [
    "### Which car salesman sold the most cars?"
   ]
  },
  {
   "cell_type": "code",
   "execution_count": 5,
   "metadata": {},
   "outputs": [
    {
     "data": {
      "image/png": "[encoded data removed]",
      "text/plain": [
       "<Figure size 432x288 with 1 Axes>"
      ]
     },
     "metadata": {},
     "output_type": "display_data"
    }
   ],
   "source": [
    "import matplotlib.pyplot as plt\n",
    "\n",
    "s2 = data.groupby('salesman').size()\n",
    "s2.plot.bar()\n",
    "plt.show()"
   ]
  },
  {
   "cell_type": "markdown",
   "metadata": {},
   "source": [
    "### Which dealership sold the most cars?"
   ]
  },
  {
   "cell_type": "code",
   "execution_count": 6,
   "metadata": {},
   "outputs": [
    {
     "data": {
      "image/png": "[encoded data removed]",
      "text/plain": [
       "<Figure size 432x288 with 1 Axes>"
      ]
     },
     "metadata": {},
     "output_type": "display_data"
    }
   ],
   "source": [
    "import matplotlib.pyplot as plt\n",
    "\n",
    "s2 = data.groupby('dealership').size()\n",
    "s2.plot.bar()\n",
    "plt.show()"
   ]
  },
  {
   "cell_type": "markdown",
   "metadata": {},
   "source": [
    "### In what year was the average price of a Corvette greater than 100K?"
   ]
  },
  {
   "cell_type": "code",
   "execution_count": 8,
   "metadata": {},
   "outputs": [
    {
     "data": {
      "image/png": "[encoded data removed]",
      "text/plain": [
       "<Figure size 1440x432 with 1 Axes>"
      ]
     },
     "metadata": {},
     "output_type": "display_data"
    }
   ],
   "source": [
    "#del DataFrame is existed\n",
    "#del data_corvette\n",
    "\n",
    "#deep copy to new DataFrame\n",
    "data_corvette=data.copy(deep=True)\n",
    "\n",
    "#remove all cars that are not Corvette'\n",
    "data_corvette=data_corvette[data_corvette['car']=='Corvette']\n",
    "data_corvette\n",
    "\n",
    "#drops irelevant columns \n",
    "columns = ['car','year', 'engine_hp','avg_mpg','salesman','dealership','sold_month']\n",
    "data_corvette.drop(columns, inplace=True, axis=1)\n",
    "\n",
    "#take only the year of the 'sold_date'\n",
    "data_corvette['sold_date'] = data_corvette['sold_date'].str.slice(0, 4)\n",
    "\n",
    "# aggregate avg car's price group by sold_date's year\n",
    "data_corvette=data_corvette.groupby('sold_date').mean()\n",
    "\n",
    "# draw bar chart\n",
    "fig, ax = plt.subplots(figsize=(20,6))\n",
    "data_corvette.plot(kind='bar',color='blue',ax=ax)\n",
    "ax.grid(True)\n",
    "ax.set_title('Avg Price for Corvette Per Year')\n",
    "plt.axhline(y=100000, xmin=0, xmax=2030, linewidth=2, color = 'r')\n",
    "plt.show() "
   ]
  },
  {
   "cell_type": "markdown",
   "metadata": {},
   "source": [
    "### Which car has several points in the box plot’s far-right upper quartile for the engine's horsepower?"
   ]
  },
  {
   "cell_type": "code",
   "execution_count": 9,
   "metadata": {},
   "outputs": [
    {
     "data": {
      "image/png": "[encoded data removed]",
      "text/plain": [
       "<Figure size 432x288 with 1 Axes>"
      ]
     },
     "metadata": {},
     "output_type": "display_data"
    }
   ],
   "source": [
    "bp = data.boxplot(column=['engine_hp'],by='car')\n",
    "plt.title(\"\")#remove automatic title\n",
    "plt.show()"
   ]
  },
  {
   "cell_type": "code",
   "execution_count": null,
   "metadata": {},
   "outputs": [],
   "source": []
  }
 ],
 "metadata": {
  "kernelspec": {
   "display_name": "conda_python3",
   "language": "python",
   "name": "conda_python3"
  },
  "language_info": {
   "codemirror_mode": {
    "name": "ipython",
    "version": 3
   },
   "file_extension": ".py",
   "mimetype": "text/x-python",
   "name": "python",
   "nbconvert_exporter": "python",
   "pygments_lexer": "ipython3",
   "version": "3.6.5"
  }
 },
 "nbformat": 4,
 "nbformat_minor": 2
}
